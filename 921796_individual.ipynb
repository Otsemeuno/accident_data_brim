{
  "nbformat": 4,
  "nbformat_minor": 0,
  "metadata": {
    "colab": {
      "name": "921796_individual.ipynb",
      "provenance": [],
      "collapsed_sections": [
        "oTYVPWOYodTO",
        "8lKTSnAEqoye",
        "aGdbpNLqvrvJ",
        "Yo7eziKexu76"
      ],
      "authorship_tag": "ABX9TyPWb3iOik8aZZF+6WhhJ+N6",
      "include_colab_link": true
    },
    "kernelspec": {
      "name": "python3",
      "display_name": "Python 3"
    },
    "language_info": {
      "name": "python"
    }
  },
  "cells": [
    {
      "cell_type": "markdown",
      "metadata": {
        "id": "view-in-github",
        "colab_type": "text"
      },
      "source": [
        "<a href=\"https://colab.research.google.com/github/Otsemeuno/accident_data_brim/blob/main/921796_individual.ipynb\" target=\"_parent\"><img src=\"https://colab.research.google.com/assets/colab-badge.svg\" alt=\"Open In Colab\"/></a>"
      ]
    },
    {
      "cell_type": "markdown",
      "source": [
        "### **Table of Content**\n",
        "\n",
        "* Business Objective\n",
        "\n",
        "* Importing Necessary Libraries\n",
        "\n",
        "* Data Preparation\n",
        "\n",
        "* First Analysis\n",
        "\n",
        "* Second Analysis\n",
        "\n",
        "* Conclusion"
      ],
      "metadata": {
        "id": "lBOJzAk96_7j"
      }
    },
    {
      "cell_type": "markdown",
      "source": [
        "# **Business Objective**"
      ],
      "metadata": {
        "id": "owIKuTSFyoyf"
      }
    },
    {
      "cell_type": "markdown",
      "source": [
        "The United Kingdom has the second safest roads in Europe according to European Automobile Manufacturers Association (ACEA) yet every 22 minutes someone is killed or seriously injured on UK roads(William Joseph). Every road accident is preventable but to begin to understand how to prevent road accidents there is a need to know why they happen. We are building two models, one that will indicate the main determinants of road accidents in a day in the UK and the other will highlight the factors contributing to the severity of those accidents. The department of transport will use this insight to formulate policies to curb or reduce the occurrence of road accidents. The first model will use the number of accidents in a day as the dependent variable while the second model will use casualty severity as its' dependent variable, both models will make use of information about specific accidents as the independent variables."
      ],
      "metadata": {
        "id": "NuNI3Fn-yYJ3"
      }
    },
    {
      "cell_type": "markdown",
      "source": [
        "Two analysis will be carried out in this report to better understand the accident occurence in the UK. The first analysis is the find out factors that influence the number of accident.\n",
        "The second analysis is to find the factors  that influence the severity of the accident."
      ],
      "metadata": {
        "id": "Qaa4Vp7wy1fI"
      }
    },
    {
      "cell_type": "markdown",
      "source": [
        "## **Importing Necessary Libraries**"
      ],
      "metadata": {
        "id": "oTYVPWOYodTO"
      }
    },
    {
      "cell_type": "code",
      "source": [
        "#Importing necesssary libraries\n",
        "import numpy as np \n",
        "import pandas as pd\n",
        "from sklearn.metrics import mean_squared_error \n",
        "from sklearn.linear_model import LinearRegression\n",
        "from sklearn.model_selection import cross_val_score\n",
        "from sklearn.model_selection import GridSearchCV \n",
        "from sklearn.model_selection import RandomizedSearchCV\n",
        "from sklearn.ensemble import RandomForestRegressor\n",
        "from sklearn.metrics import accuracy_score\n",
        "from sklearn.metrics import precision_score, recall_score\n",
        "from sklearn.metrics import f1_score\n",
        "from sklearn.ensemble import RandomForestClassifier\n",
        "from sklearn.metrics import ConfusionMatrixDisplay\n",
        "from sklearn.tree import DecisionTreeRegressor\n",
        "from sklearn.svm import LinearSVC\n",
        "\n",
        "import time\n",
        "\n",
        "from sklearn.preprocessing import OneHotEncoder\n",
        "from sklearn.preprocessing import OrdinalEncoder\n",
        "import seaborn as sns\n",
        "import matplotlib.pyplot as plt; plt.rcdefaults()\n",
        "import matplotlib.pyplot as plt\n",
        "\n",
        "from google.colab import drive\n",
        "\n",
        "#suppress all warnings\n",
        "import warnings\n",
        "warnings.filterwarnings(\"ignore\")"
      ],
      "metadata": {
        "id": "-R-MAA1DofYE"
      },
      "execution_count": null,
      "outputs": []
    },
    {
      "cell_type": "markdown",
      "source": [
        "## **Data Preparation**"
      ],
      "metadata": {
        "id": "LGUHMpn-qiRe"
      }
    },
    {
      "cell_type": "markdown",
      "source": [
        "### **Loading the Data**\n",
        "The 4 files gotten from the group assignment were imported. They contain all the necessary data needed for this analysis."
      ],
      "metadata": {
        "id": "8lKTSnAEqoye"
      }
    },
    {
      "cell_type": "code",
      "source": [
        "# Mount Google Drive on Kernel\n",
        "drive.mount('/content/drive')"
      ],
      "metadata": {
        "colab": {
          "base_uri": "https://localhost:8080/"
        },
        "id": "jtPcH0Vxpw5M",
        "outputId": "08a60f0e-8b3a-42f9-bd8d-05a64776da73"
      },
      "execution_count": null,
      "outputs": [
        {
          "output_type": "stream",
          "name": "stdout",
          "text": [
            "Drive already mounted at /content/drive; to attempt to forcibly remount, call drive.mount(\"/content/drive\", force_remount=True).\n"
          ]
        }
      ]
    },
    {
      "cell_type": "code",
      "source": [
        "# Loading the data\n",
        "#for first analysis\n",
        "trainset = pd.read_csv('/content/drive/MyDrive/trainset.csv', \n",
        "                       index_col = 0)\n",
        "testset = pd.read_csv('/content/drive/MyDrive/testset.csv', \n",
        "                      index_col = 0)\n",
        "\n",
        "#for second analysis\n",
        "trainsetsev = pd.read_csv('/content/drive/MyDrive/trainsetsev.csv', \n",
        "                          index_col = 0)\n",
        "testsetsev = pd.read_csv('/content/drive/MyDrive/testsetsev.csv', \n",
        "                         index_col = 0)"
      ],
      "metadata": {
        "id": "kalQ8EYdsBnv"
      },
      "execution_count": null,
      "outputs": []
    },
    {
      "cell_type": "code",
      "source": [
        "#viewing the first 5 rows of the trainset\n",
        "trainset.head()"
      ],
      "metadata": {
        "colab": {
          "base_uri": "https://localhost:8080/",
          "height": 386
        },
        "id": "DiHTtZAAuN3e",
        "outputId": "32236589-36e6-4074-dd5b-2fb39cbe35fa"
      },
      "execution_count": null,
      "outputs": [
        {
          "output_type": "execute_result",
          "data": {
            "text/plain": [
              "         date  day_of_week  no_of_accidents  dual_carriageway  one_way_street  \\\n",
              "0  2020-01-01            2              327          0.186544        0.027523   \n",
              "1  2020-01-02            3              523          0.158700        0.013384   \n",
              "2  2020-01-03            4              423          0.170213        0.030733   \n",
              "3  2020-01-04            5              143          0.167832        0.027972   \n",
              "4  2020-01-05            6              273          0.139194        0.003663   \n",
              "\n",
              "   roundabout  single_carriageway  slip_road  central_refuge  footbridge  ...  \\\n",
              "0    0.061162            0.694190   0.030581        0.045872    0.000000  ...   \n",
              "1    0.049713            0.766730   0.011472        0.021033    0.000000  ...   \n",
              "2    0.066194            0.718676   0.014184        0.011820    0.004728  ...   \n",
              "3    0.076923            0.727273   0.000000        0.020979    0.000000  ...   \n",
              "4    0.102564            0.747253   0.007326        0.021978    0.000000  ...   \n",
              "\n",
              "      frost       wet         1         2         3         4    female  \\\n",
              "0  0.000000  0.308869  0.235474  0.244648  0.183486  0.336391  0.204893   \n",
              "1  0.000000  0.219885  0.256214  0.355641  0.239006  0.149140  0.256214   \n",
              "2  0.002364  0.238771  0.281324  0.378251  0.193853  0.146572  0.234043   \n",
              "3  0.000000  0.055944  0.314685  0.342657  0.293706  0.048951  0.188811   \n",
              "4  0.003663  0.234432  0.347985  0.402930  0.183150  0.065934  0.238095   \n",
              "\n",
              "       male  no_high_wind  urban_area  \n",
              "0  0.642202      0.993884    0.746177  \n",
              "1  0.630975      0.936902    0.697897  \n",
              "2  0.638298      0.933806    0.666667  \n",
              "3  0.685315      1.000000    0.783217  \n",
              "4  0.677656      0.992674    0.747253  \n",
              "\n",
              "[5 rows x 31 columns]"
            ],
            "text/html": [
              "\n",
              "  <div id=\"df-65a2e192-a3dc-4cc4-bad4-6680e51b220d\">\n",
              "    <div class=\"colab-df-container\">\n",
              "      <div>\n",
              "<style scoped>\n",
              "    .dataframe tbody tr th:only-of-type {\n",
              "        vertical-align: middle;\n",
              "    }\n",
              "\n",
              "    .dataframe tbody tr th {\n",
              "        vertical-align: top;\n",
              "    }\n",
              "\n",
              "    .dataframe thead th {\n",
              "        text-align: right;\n",
              "    }\n",
              "</style>\n",
              "<table border=\"1\" class=\"dataframe\">\n",
              "  <thead>\n",
              "    <tr style=\"text-align: right;\">\n",
              "      <th></th>\n",
              "      <th>date</th>\n",
              "      <th>day_of_week</th>\n",
              "      <th>no_of_accidents</th>\n",
              "      <th>dual_carriageway</th>\n",
              "      <th>one_way_street</th>\n",
              "      <th>roundabout</th>\n",
              "      <th>single_carriageway</th>\n",
              "      <th>slip_road</th>\n",
              "      <th>central_refuge</th>\n",
              "      <th>footbridge</th>\n",
              "      <th>...</th>\n",
              "      <th>frost</th>\n",
              "      <th>wet</th>\n",
              "      <th>1</th>\n",
              "      <th>2</th>\n",
              "      <th>3</th>\n",
              "      <th>4</th>\n",
              "      <th>female</th>\n",
              "      <th>male</th>\n",
              "      <th>no_high_wind</th>\n",
              "      <th>urban_area</th>\n",
              "    </tr>\n",
              "  </thead>\n",
              "  <tbody>\n",
              "    <tr>\n",
              "      <th>0</th>\n",
              "      <td>2020-01-01</td>\n",
              "      <td>2</td>\n",
              "      <td>327</td>\n",
              "      <td>0.186544</td>\n",
              "      <td>0.027523</td>\n",
              "      <td>0.061162</td>\n",
              "      <td>0.694190</td>\n",
              "      <td>0.030581</td>\n",
              "      <td>0.045872</td>\n",
              "      <td>0.000000</td>\n",
              "      <td>...</td>\n",
              "      <td>0.000000</td>\n",
              "      <td>0.308869</td>\n",
              "      <td>0.235474</td>\n",
              "      <td>0.244648</td>\n",
              "      <td>0.183486</td>\n",
              "      <td>0.336391</td>\n",
              "      <td>0.204893</td>\n",
              "      <td>0.642202</td>\n",
              "      <td>0.993884</td>\n",
              "      <td>0.746177</td>\n",
              "    </tr>\n",
              "    <tr>\n",
              "      <th>1</th>\n",
              "      <td>2020-01-02</td>\n",
              "      <td>3</td>\n",
              "      <td>523</td>\n",
              "      <td>0.158700</td>\n",
              "      <td>0.013384</td>\n",
              "      <td>0.049713</td>\n",
              "      <td>0.766730</td>\n",
              "      <td>0.011472</td>\n",
              "      <td>0.021033</td>\n",
              "      <td>0.000000</td>\n",
              "      <td>...</td>\n",
              "      <td>0.000000</td>\n",
              "      <td>0.219885</td>\n",
              "      <td>0.256214</td>\n",
              "      <td>0.355641</td>\n",
              "      <td>0.239006</td>\n",
              "      <td>0.149140</td>\n",
              "      <td>0.256214</td>\n",
              "      <td>0.630975</td>\n",
              "      <td>0.936902</td>\n",
              "      <td>0.697897</td>\n",
              "    </tr>\n",
              "    <tr>\n",
              "      <th>2</th>\n",
              "      <td>2020-01-03</td>\n",
              "      <td>4</td>\n",
              "      <td>423</td>\n",
              "      <td>0.170213</td>\n",
              "      <td>0.030733</td>\n",
              "      <td>0.066194</td>\n",
              "      <td>0.718676</td>\n",
              "      <td>0.014184</td>\n",
              "      <td>0.011820</td>\n",
              "      <td>0.004728</td>\n",
              "      <td>...</td>\n",
              "      <td>0.002364</td>\n",
              "      <td>0.238771</td>\n",
              "      <td>0.281324</td>\n",
              "      <td>0.378251</td>\n",
              "      <td>0.193853</td>\n",
              "      <td>0.146572</td>\n",
              "      <td>0.234043</td>\n",
              "      <td>0.638298</td>\n",
              "      <td>0.933806</td>\n",
              "      <td>0.666667</td>\n",
              "    </tr>\n",
              "    <tr>\n",
              "      <th>3</th>\n",
              "      <td>2020-01-04</td>\n",
              "      <td>5</td>\n",
              "      <td>143</td>\n",
              "      <td>0.167832</td>\n",
              "      <td>0.027972</td>\n",
              "      <td>0.076923</td>\n",
              "      <td>0.727273</td>\n",
              "      <td>0.000000</td>\n",
              "      <td>0.020979</td>\n",
              "      <td>0.000000</td>\n",
              "      <td>...</td>\n",
              "      <td>0.000000</td>\n",
              "      <td>0.055944</td>\n",
              "      <td>0.314685</td>\n",
              "      <td>0.342657</td>\n",
              "      <td>0.293706</td>\n",
              "      <td>0.048951</td>\n",
              "      <td>0.188811</td>\n",
              "      <td>0.685315</td>\n",
              "      <td>1.000000</td>\n",
              "      <td>0.783217</td>\n",
              "    </tr>\n",
              "    <tr>\n",
              "      <th>4</th>\n",
              "      <td>2020-01-05</td>\n",
              "      <td>6</td>\n",
              "      <td>273</td>\n",
              "      <td>0.139194</td>\n",
              "      <td>0.003663</td>\n",
              "      <td>0.102564</td>\n",
              "      <td>0.747253</td>\n",
              "      <td>0.007326</td>\n",
              "      <td>0.021978</td>\n",
              "      <td>0.000000</td>\n",
              "      <td>...</td>\n",
              "      <td>0.003663</td>\n",
              "      <td>0.234432</td>\n",
              "      <td>0.347985</td>\n",
              "      <td>0.402930</td>\n",
              "      <td>0.183150</td>\n",
              "      <td>0.065934</td>\n",
              "      <td>0.238095</td>\n",
              "      <td>0.677656</td>\n",
              "      <td>0.992674</td>\n",
              "      <td>0.747253</td>\n",
              "    </tr>\n",
              "  </tbody>\n",
              "</table>\n",
              "<p>5 rows × 31 columns</p>\n",
              "</div>\n",
              "      <button class=\"colab-df-convert\" onclick=\"convertToInteractive('df-65a2e192-a3dc-4cc4-bad4-6680e51b220d')\"\n",
              "              title=\"Convert this dataframe to an interactive table.\"\n",
              "              style=\"display:none;\">\n",
              "        \n",
              "  <svg xmlns=\"http://www.w3.org/2000/svg\" height=\"24px\"viewBox=\"0 0 24 24\"\n",
              "       width=\"24px\">\n",
              "    <path d=\"M0 0h24v24H0V0z\" fill=\"none\"/>\n",
              "    <path d=\"M18.56 5.44l.94 2.06.94-2.06 2.06-.94-2.06-.94-.94-2.06-.94 2.06-2.06.94zm-11 1L8.5 8.5l.94-2.06 2.06-.94-2.06-.94L8.5 2.5l-.94 2.06-2.06.94zm10 10l.94 2.06.94-2.06 2.06-.94-2.06-.94-.94-2.06-.94 2.06-2.06.94z\"/><path d=\"M17.41 7.96l-1.37-1.37c-.4-.4-.92-.59-1.43-.59-.52 0-1.04.2-1.43.59L10.3 9.45l-7.72 7.72c-.78.78-.78 2.05 0 2.83L4 21.41c.39.39.9.59 1.41.59.51 0 1.02-.2 1.41-.59l7.78-7.78 2.81-2.81c.8-.78.8-2.07 0-2.86zM5.41 20L4 18.59l7.72-7.72 1.47 1.35L5.41 20z\"/>\n",
              "  </svg>\n",
              "      </button>\n",
              "      \n",
              "  <style>\n",
              "    .colab-df-container {\n",
              "      display:flex;\n",
              "      flex-wrap:wrap;\n",
              "      gap: 12px;\n",
              "    }\n",
              "\n",
              "    .colab-df-convert {\n",
              "      background-color: #E8F0FE;\n",
              "      border: none;\n",
              "      border-radius: 50%;\n",
              "      cursor: pointer;\n",
              "      display: none;\n",
              "      fill: #1967D2;\n",
              "      height: 32px;\n",
              "      padding: 0 0 0 0;\n",
              "      width: 32px;\n",
              "    }\n",
              "\n",
              "    .colab-df-convert:hover {\n",
              "      background-color: #E2EBFA;\n",
              "      box-shadow: 0px 1px 2px rgba(60, 64, 67, 0.3), 0px 1px 3px 1px rgba(60, 64, 67, 0.15);\n",
              "      fill: #174EA6;\n",
              "    }\n",
              "\n",
              "    [theme=dark] .colab-df-convert {\n",
              "      background-color: #3B4455;\n",
              "      fill: #D2E3FC;\n",
              "    }\n",
              "\n",
              "    [theme=dark] .colab-df-convert:hover {\n",
              "      background-color: #434B5C;\n",
              "      box-shadow: 0px 1px 3px 1px rgba(0, 0, 0, 0.15);\n",
              "      filter: drop-shadow(0px 1px 2px rgba(0, 0, 0, 0.3));\n",
              "      fill: #FFFFFF;\n",
              "    }\n",
              "  </style>\n",
              "\n",
              "      <script>\n",
              "        const buttonEl =\n",
              "          document.querySelector('#df-65a2e192-a3dc-4cc4-bad4-6680e51b220d button.colab-df-convert');\n",
              "        buttonEl.style.display =\n",
              "          google.colab.kernel.accessAllowed ? 'block' : 'none';\n",
              "\n",
              "        async function convertToInteractive(key) {\n",
              "          const element = document.querySelector('#df-65a2e192-a3dc-4cc4-bad4-6680e51b220d');\n",
              "          const dataTable =\n",
              "            await google.colab.kernel.invokeFunction('convertToInteractive',\n",
              "                                                     [key], {});\n",
              "          if (!dataTable) return;\n",
              "\n",
              "          const docLinkHtml = 'Like what you see? Visit the ' +\n",
              "            '<a target=\"_blank\" href=https://colab.research.google.com/notebooks/data_table.ipynb>data table notebook</a>'\n",
              "            + ' to learn more about interactive tables.';\n",
              "          element.innerHTML = '';\n",
              "          dataTable['output_type'] = 'display_data';\n",
              "          await google.colab.output.renderOutput(dataTable, element);\n",
              "          const docLink = document.createElement('div');\n",
              "          docLink.innerHTML = docLinkHtml;\n",
              "          element.appendChild(docLink);\n",
              "        }\n",
              "      </script>\n",
              "    </div>\n",
              "  </div>\n",
              "  "
            ]
          },
          "metadata": {},
          "execution_count": 10
        }
      ]
    },
    {
      "cell_type": "code",
      "source": [
        "# time of the day column was replaced with their value labels \n",
        "#trainset and testset for better viewing\n",
        "trainset = trainset.rename(columns = {'1': 'morning', '2': 'afternoon', \n",
        "                                      '3': 'evening', '4': 'night'})\n",
        "testset = testset.rename(columns = {'1': 'morning', '2': 'afternoon', \n",
        "                                    '3': 'evening', '4': 'night'})"
      ],
      "metadata": {
        "id": "YhxaK8OlzKdD"
      },
      "execution_count": null,
      "outputs": []
    },
    {
      "cell_type": "code",
      "source": [
        "#viewing the first 5 rows of the trainset\n",
        "trainset.head()"
      ],
      "metadata": {
        "colab": {
          "base_uri": "https://localhost:8080/",
          "height": 386
        },
        "id": "4mSAUfA_0gRF",
        "outputId": "d8caffc5-1bf3-41c4-a70c-064351530164"
      },
      "execution_count": null,
      "outputs": [
        {
          "output_type": "execute_result",
          "data": {
            "text/plain": [
              "         date  day_of_week  no_of_accidents  dual_carriageway  one_way_street  \\\n",
              "0  2020-01-01            2              327          0.186544        0.027523   \n",
              "1  2020-01-02            3              523          0.158700        0.013384   \n",
              "2  2020-01-03            4              423          0.170213        0.030733   \n",
              "3  2020-01-04            5              143          0.167832        0.027972   \n",
              "4  2020-01-05            6              273          0.139194        0.003663   \n",
              "\n",
              "   roundabout  single_carriageway  slip_road  central_refuge  footbridge  ...  \\\n",
              "0    0.061162            0.694190   0.030581        0.045872    0.000000  ...   \n",
              "1    0.049713            0.766730   0.011472        0.021033    0.000000  ...   \n",
              "2    0.066194            0.718676   0.014184        0.011820    0.004728  ...   \n",
              "3    0.076923            0.727273   0.000000        0.020979    0.000000  ...   \n",
              "4    0.102564            0.747253   0.007326        0.021978    0.000000  ...   \n",
              "\n",
              "      frost       wet   morning  afternoon   evening     night    female  \\\n",
              "0  0.000000  0.308869  0.235474   0.244648  0.183486  0.336391  0.204893   \n",
              "1  0.000000  0.219885  0.256214   0.355641  0.239006  0.149140  0.256214   \n",
              "2  0.002364  0.238771  0.281324   0.378251  0.193853  0.146572  0.234043   \n",
              "3  0.000000  0.055944  0.314685   0.342657  0.293706  0.048951  0.188811   \n",
              "4  0.003663  0.234432  0.347985   0.402930  0.183150  0.065934  0.238095   \n",
              "\n",
              "       male  no_high_wind  urban_area  \n",
              "0  0.642202      0.993884    0.746177  \n",
              "1  0.630975      0.936902    0.697897  \n",
              "2  0.638298      0.933806    0.666667  \n",
              "3  0.685315      1.000000    0.783217  \n",
              "4  0.677656      0.992674    0.747253  \n",
              "\n",
              "[5 rows x 31 columns]"
            ],
            "text/html": [
              "\n",
              "  <div id=\"df-1ea57a12-3c02-4e75-8775-ed25b3730ee2\">\n",
              "    <div class=\"colab-df-container\">\n",
              "      <div>\n",
              "<style scoped>\n",
              "    .dataframe tbody tr th:only-of-type {\n",
              "        vertical-align: middle;\n",
              "    }\n",
              "\n",
              "    .dataframe tbody tr th {\n",
              "        vertical-align: top;\n",
              "    }\n",
              "\n",
              "    .dataframe thead th {\n",
              "        text-align: right;\n",
              "    }\n",
              "</style>\n",
              "<table border=\"1\" class=\"dataframe\">\n",
              "  <thead>\n",
              "    <tr style=\"text-align: right;\">\n",
              "      <th></th>\n",
              "      <th>date</th>\n",
              "      <th>day_of_week</th>\n",
              "      <th>no_of_accidents</th>\n",
              "      <th>dual_carriageway</th>\n",
              "      <th>one_way_street</th>\n",
              "      <th>roundabout</th>\n",
              "      <th>single_carriageway</th>\n",
              "      <th>slip_road</th>\n",
              "      <th>central_refuge</th>\n",
              "      <th>footbridge</th>\n",
              "      <th>...</th>\n",
              "      <th>frost</th>\n",
              "      <th>wet</th>\n",
              "      <th>morning</th>\n",
              "      <th>afternoon</th>\n",
              "      <th>evening</th>\n",
              "      <th>night</th>\n",
              "      <th>female</th>\n",
              "      <th>male</th>\n",
              "      <th>no_high_wind</th>\n",
              "      <th>urban_area</th>\n",
              "    </tr>\n",
              "  </thead>\n",
              "  <tbody>\n",
              "    <tr>\n",
              "      <th>0</th>\n",
              "      <td>2020-01-01</td>\n",
              "      <td>2</td>\n",
              "      <td>327</td>\n",
              "      <td>0.186544</td>\n",
              "      <td>0.027523</td>\n",
              "      <td>0.061162</td>\n",
              "      <td>0.694190</td>\n",
              "      <td>0.030581</td>\n",
              "      <td>0.045872</td>\n",
              "      <td>0.000000</td>\n",
              "      <td>...</td>\n",
              "      <td>0.000000</td>\n",
              "      <td>0.308869</td>\n",
              "      <td>0.235474</td>\n",
              "      <td>0.244648</td>\n",
              "      <td>0.183486</td>\n",
              "      <td>0.336391</td>\n",
              "      <td>0.204893</td>\n",
              "      <td>0.642202</td>\n",
              "      <td>0.993884</td>\n",
              "      <td>0.746177</td>\n",
              "    </tr>\n",
              "    <tr>\n",
              "      <th>1</th>\n",
              "      <td>2020-01-02</td>\n",
              "      <td>3</td>\n",
              "      <td>523</td>\n",
              "      <td>0.158700</td>\n",
              "      <td>0.013384</td>\n",
              "      <td>0.049713</td>\n",
              "      <td>0.766730</td>\n",
              "      <td>0.011472</td>\n",
              "      <td>0.021033</td>\n",
              "      <td>0.000000</td>\n",
              "      <td>...</td>\n",
              "      <td>0.000000</td>\n",
              "      <td>0.219885</td>\n",
              "      <td>0.256214</td>\n",
              "      <td>0.355641</td>\n",
              "      <td>0.239006</td>\n",
              "      <td>0.149140</td>\n",
              "      <td>0.256214</td>\n",
              "      <td>0.630975</td>\n",
              "      <td>0.936902</td>\n",
              "      <td>0.697897</td>\n",
              "    </tr>\n",
              "    <tr>\n",
              "      <th>2</th>\n",
              "      <td>2020-01-03</td>\n",
              "      <td>4</td>\n",
              "      <td>423</td>\n",
              "      <td>0.170213</td>\n",
              "      <td>0.030733</td>\n",
              "      <td>0.066194</td>\n",
              "      <td>0.718676</td>\n",
              "      <td>0.014184</td>\n",
              "      <td>0.011820</td>\n",
              "      <td>0.004728</td>\n",
              "      <td>...</td>\n",
              "      <td>0.002364</td>\n",
              "      <td>0.238771</td>\n",
              "      <td>0.281324</td>\n",
              "      <td>0.378251</td>\n",
              "      <td>0.193853</td>\n",
              "      <td>0.146572</td>\n",
              "      <td>0.234043</td>\n",
              "      <td>0.638298</td>\n",
              "      <td>0.933806</td>\n",
              "      <td>0.666667</td>\n",
              "    </tr>\n",
              "    <tr>\n",
              "      <th>3</th>\n",
              "      <td>2020-01-04</td>\n",
              "      <td>5</td>\n",
              "      <td>143</td>\n",
              "      <td>0.167832</td>\n",
              "      <td>0.027972</td>\n",
              "      <td>0.076923</td>\n",
              "      <td>0.727273</td>\n",
              "      <td>0.000000</td>\n",
              "      <td>0.020979</td>\n",
              "      <td>0.000000</td>\n",
              "      <td>...</td>\n",
              "      <td>0.000000</td>\n",
              "      <td>0.055944</td>\n",
              "      <td>0.314685</td>\n",
              "      <td>0.342657</td>\n",
              "      <td>0.293706</td>\n",
              "      <td>0.048951</td>\n",
              "      <td>0.188811</td>\n",
              "      <td>0.685315</td>\n",
              "      <td>1.000000</td>\n",
              "      <td>0.783217</td>\n",
              "    </tr>\n",
              "    <tr>\n",
              "      <th>4</th>\n",
              "      <td>2020-01-05</td>\n",
              "      <td>6</td>\n",
              "      <td>273</td>\n",
              "      <td>0.139194</td>\n",
              "      <td>0.003663</td>\n",
              "      <td>0.102564</td>\n",
              "      <td>0.747253</td>\n",
              "      <td>0.007326</td>\n",
              "      <td>0.021978</td>\n",
              "      <td>0.000000</td>\n",
              "      <td>...</td>\n",
              "      <td>0.003663</td>\n",
              "      <td>0.234432</td>\n",
              "      <td>0.347985</td>\n",
              "      <td>0.402930</td>\n",
              "      <td>0.183150</td>\n",
              "      <td>0.065934</td>\n",
              "      <td>0.238095</td>\n",
              "      <td>0.677656</td>\n",
              "      <td>0.992674</td>\n",
              "      <td>0.747253</td>\n",
              "    </tr>\n",
              "  </tbody>\n",
              "</table>\n",
              "<p>5 rows × 31 columns</p>\n",
              "</div>\n",
              "      <button class=\"colab-df-convert\" onclick=\"convertToInteractive('df-1ea57a12-3c02-4e75-8775-ed25b3730ee2')\"\n",
              "              title=\"Convert this dataframe to an interactive table.\"\n",
              "              style=\"display:none;\">\n",
              "        \n",
              "  <svg xmlns=\"http://www.w3.org/2000/svg\" height=\"24px\"viewBox=\"0 0 24 24\"\n",
              "       width=\"24px\">\n",
              "    <path d=\"M0 0h24v24H0V0z\" fill=\"none\"/>\n",
              "    <path d=\"M18.56 5.44l.94 2.06.94-2.06 2.06-.94-2.06-.94-.94-2.06-.94 2.06-2.06.94zm-11 1L8.5 8.5l.94-2.06 2.06-.94-2.06-.94L8.5 2.5l-.94 2.06-2.06.94zm10 10l.94 2.06.94-2.06 2.06-.94-2.06-.94-.94-2.06-.94 2.06-2.06.94z\"/><path d=\"M17.41 7.96l-1.37-1.37c-.4-.4-.92-.59-1.43-.59-.52 0-1.04.2-1.43.59L10.3 9.45l-7.72 7.72c-.78.78-.78 2.05 0 2.83L4 21.41c.39.39.9.59 1.41.59.51 0 1.02-.2 1.41-.59l7.78-7.78 2.81-2.81c.8-.78.8-2.07 0-2.86zM5.41 20L4 18.59l7.72-7.72 1.47 1.35L5.41 20z\"/>\n",
              "  </svg>\n",
              "      </button>\n",
              "      \n",
              "  <style>\n",
              "    .colab-df-container {\n",
              "      display:flex;\n",
              "      flex-wrap:wrap;\n",
              "      gap: 12px;\n",
              "    }\n",
              "\n",
              "    .colab-df-convert {\n",
              "      background-color: #E8F0FE;\n",
              "      border: none;\n",
              "      border-radius: 50%;\n",
              "      cursor: pointer;\n",
              "      display: none;\n",
              "      fill: #1967D2;\n",
              "      height: 32px;\n",
              "      padding: 0 0 0 0;\n",
              "      width: 32px;\n",
              "    }\n",
              "\n",
              "    .colab-df-convert:hover {\n",
              "      background-color: #E2EBFA;\n",
              "      box-shadow: 0px 1px 2px rgba(60, 64, 67, 0.3), 0px 1px 3px 1px rgba(60, 64, 67, 0.15);\n",
              "      fill: #174EA6;\n",
              "    }\n",
              "\n",
              "    [theme=dark] .colab-df-convert {\n",
              "      background-color: #3B4455;\n",
              "      fill: #D2E3FC;\n",
              "    }\n",
              "\n",
              "    [theme=dark] .colab-df-convert:hover {\n",
              "      background-color: #434B5C;\n",
              "      box-shadow: 0px 1px 3px 1px rgba(0, 0, 0, 0.15);\n",
              "      filter: drop-shadow(0px 1px 2px rgba(0, 0, 0, 0.3));\n",
              "      fill: #FFFFFF;\n",
              "    }\n",
              "  </style>\n",
              "\n",
              "      <script>\n",
              "        const buttonEl =\n",
              "          document.querySelector('#df-1ea57a12-3c02-4e75-8775-ed25b3730ee2 button.colab-df-convert');\n",
              "        buttonEl.style.display =\n",
              "          google.colab.kernel.accessAllowed ? 'block' : 'none';\n",
              "\n",
              "        async function convertToInteractive(key) {\n",
              "          const element = document.querySelector('#df-1ea57a12-3c02-4e75-8775-ed25b3730ee2');\n",
              "          const dataTable =\n",
              "            await google.colab.kernel.invokeFunction('convertToInteractive',\n",
              "                                                     [key], {});\n",
              "          if (!dataTable) return;\n",
              "\n",
              "          const docLinkHtml = 'Like what you see? Visit the ' +\n",
              "            '<a target=\"_blank\" href=https://colab.research.google.com/notebooks/data_table.ipynb>data table notebook</a>'\n",
              "            + ' to learn more about interactive tables.';\n",
              "          element.innerHTML = '';\n",
              "          dataTable['output_type'] = 'display_data';\n",
              "          await google.colab.output.renderOutput(dataTable, element);\n",
              "          const docLink = document.createElement('div');\n",
              "          docLink.innerHTML = docLinkHtml;\n",
              "          element.appendChild(docLink);\n",
              "        }\n",
              "      </script>\n",
              "    </div>\n",
              "  </div>\n",
              "  "
            ]
          },
          "metadata": {},
          "execution_count": 12
        }
      ]
    },
    {
      "cell_type": "code",
      "source": [
        "#viewing the shape of the data\n",
        "trainset.shape"
      ],
      "metadata": {
        "colab": {
          "base_uri": "https://localhost:8080/"
        },
        "id": "7dxTmq2d1W5d",
        "outputId": "6ebbb194-0439-4847-acfe-76e6cfc93b8a"
      },
      "execution_count": null,
      "outputs": [
        {
          "output_type": "execute_result",
          "data": {
            "text/plain": [
              "(289, 31)"
            ]
          },
          "metadata": {},
          "execution_count": 13
        }
      ]
    },
    {
      "cell_type": "code",
      "source": [
        "#viewing the first 5 rows of the trainsetsev\n",
        "trainsetsev.head()"
      ],
      "metadata": {
        "colab": {
          "base_uri": "https://localhost:8080/",
          "height": 270
        },
        "id": "J50Vw1Os1do7",
        "outputId": "497ce331-c7d7-40f8-c73a-625e736c922b"
      },
      "execution_count": null,
      "outputs": [
        {
          "output_type": "execute_result",
          "data": {
            "text/plain": [
              "        casualty_severity  casualty_class  day_of_week      time  \\\n",
              "116740                  3               1            7  17:29:00   \n",
              "168857                  3               1            7  11:13:00   \n",
              "115780                  3               1            3  19:01:00   \n",
              "75869                   3               2            5  15:26:00   \n",
              "66321                   2               1            4  14:43:00   \n",
              "\n",
              "                 road_type pedestrian_crossing_physical_facilities  \\\n",
              "116740          roundabout                  no_crossing_facilities   \n",
              "168857    dual_carriageway                   non_junction_crossing   \n",
              "115780  single_carriageway                  no_crossing_facilities   \n",
              "75869     dual_carriageway                  no_crossing_facilities   \n",
              "66321   single_carriageway                  no_crossing_facilities   \n",
              "\n",
              "       weather_conditions road_surface_conditions urban_or_rural_area  \\\n",
              "116740               fine                     dry               urban   \n",
              "168857               fine                     dry               rural   \n",
              "115780               fine                     dry               urban   \n",
              "75869                fine                     wet               rural   \n",
              "66321                fine                     dry               rural   \n",
              "\n",
              "        age_of_driver sex_of_driver  age_of_vehicle     high_wind  \\\n",
              "116740           31.0          male            10.0  no_high_wind   \n",
              "168857           58.0        female            11.0  no_high_wind   \n",
              "115780           30.0         other            10.0  no_high_wind   \n",
              "75869            41.0          male             2.0     high_wind   \n",
              "66321            27.0          male             6.0  no_high_wind   \n",
              "\n",
              "        time_category  \n",
              "116740              2  \n",
              "168857              1  \n",
              "115780              3  \n",
              "75869               2  \n",
              "66321               2  "
            ],
            "text/html": [
              "\n",
              "  <div id=\"df-f4c2f4b2-3099-49a9-9433-532a9b6d8cd6\">\n",
              "    <div class=\"colab-df-container\">\n",
              "      <div>\n",
              "<style scoped>\n",
              "    .dataframe tbody tr th:only-of-type {\n",
              "        vertical-align: middle;\n",
              "    }\n",
              "\n",
              "    .dataframe tbody tr th {\n",
              "        vertical-align: top;\n",
              "    }\n",
              "\n",
              "    .dataframe thead th {\n",
              "        text-align: right;\n",
              "    }\n",
              "</style>\n",
              "<table border=\"1\" class=\"dataframe\">\n",
              "  <thead>\n",
              "    <tr style=\"text-align: right;\">\n",
              "      <th></th>\n",
              "      <th>casualty_severity</th>\n",
              "      <th>casualty_class</th>\n",
              "      <th>day_of_week</th>\n",
              "      <th>time</th>\n",
              "      <th>road_type</th>\n",
              "      <th>pedestrian_crossing_physical_facilities</th>\n",
              "      <th>weather_conditions</th>\n",
              "      <th>road_surface_conditions</th>\n",
              "      <th>urban_or_rural_area</th>\n",
              "      <th>age_of_driver</th>\n",
              "      <th>sex_of_driver</th>\n",
              "      <th>age_of_vehicle</th>\n",
              "      <th>high_wind</th>\n",
              "      <th>time_category</th>\n",
              "    </tr>\n",
              "  </thead>\n",
              "  <tbody>\n",
              "    <tr>\n",
              "      <th>116740</th>\n",
              "      <td>3</td>\n",
              "      <td>1</td>\n",
              "      <td>7</td>\n",
              "      <td>17:29:00</td>\n",
              "      <td>roundabout</td>\n",
              "      <td>no_crossing_facilities</td>\n",
              "      <td>fine</td>\n",
              "      <td>dry</td>\n",
              "      <td>urban</td>\n",
              "      <td>31.0</td>\n",
              "      <td>male</td>\n",
              "      <td>10.0</td>\n",
              "      <td>no_high_wind</td>\n",
              "      <td>2</td>\n",
              "    </tr>\n",
              "    <tr>\n",
              "      <th>168857</th>\n",
              "      <td>3</td>\n",
              "      <td>1</td>\n",
              "      <td>7</td>\n",
              "      <td>11:13:00</td>\n",
              "      <td>dual_carriageway</td>\n",
              "      <td>non_junction_crossing</td>\n",
              "      <td>fine</td>\n",
              "      <td>dry</td>\n",
              "      <td>rural</td>\n",
              "      <td>58.0</td>\n",
              "      <td>female</td>\n",
              "      <td>11.0</td>\n",
              "      <td>no_high_wind</td>\n",
              "      <td>1</td>\n",
              "    </tr>\n",
              "    <tr>\n",
              "      <th>115780</th>\n",
              "      <td>3</td>\n",
              "      <td>1</td>\n",
              "      <td>3</td>\n",
              "      <td>19:01:00</td>\n",
              "      <td>single_carriageway</td>\n",
              "      <td>no_crossing_facilities</td>\n",
              "      <td>fine</td>\n",
              "      <td>dry</td>\n",
              "      <td>urban</td>\n",
              "      <td>30.0</td>\n",
              "      <td>other</td>\n",
              "      <td>10.0</td>\n",
              "      <td>no_high_wind</td>\n",
              "      <td>3</td>\n",
              "    </tr>\n",
              "    <tr>\n",
              "      <th>75869</th>\n",
              "      <td>3</td>\n",
              "      <td>2</td>\n",
              "      <td>5</td>\n",
              "      <td>15:26:00</td>\n",
              "      <td>dual_carriageway</td>\n",
              "      <td>no_crossing_facilities</td>\n",
              "      <td>fine</td>\n",
              "      <td>wet</td>\n",
              "      <td>rural</td>\n",
              "      <td>41.0</td>\n",
              "      <td>male</td>\n",
              "      <td>2.0</td>\n",
              "      <td>high_wind</td>\n",
              "      <td>2</td>\n",
              "    </tr>\n",
              "    <tr>\n",
              "      <th>66321</th>\n",
              "      <td>2</td>\n",
              "      <td>1</td>\n",
              "      <td>4</td>\n",
              "      <td>14:43:00</td>\n",
              "      <td>single_carriageway</td>\n",
              "      <td>no_crossing_facilities</td>\n",
              "      <td>fine</td>\n",
              "      <td>dry</td>\n",
              "      <td>rural</td>\n",
              "      <td>27.0</td>\n",
              "      <td>male</td>\n",
              "      <td>6.0</td>\n",
              "      <td>no_high_wind</td>\n",
              "      <td>2</td>\n",
              "    </tr>\n",
              "  </tbody>\n",
              "</table>\n",
              "</div>\n",
              "      <button class=\"colab-df-convert\" onclick=\"convertToInteractive('df-f4c2f4b2-3099-49a9-9433-532a9b6d8cd6')\"\n",
              "              title=\"Convert this dataframe to an interactive table.\"\n",
              "              style=\"display:none;\">\n",
              "        \n",
              "  <svg xmlns=\"http://www.w3.org/2000/svg\" height=\"24px\"viewBox=\"0 0 24 24\"\n",
              "       width=\"24px\">\n",
              "    <path d=\"M0 0h24v24H0V0z\" fill=\"none\"/>\n",
              "    <path d=\"M18.56 5.44l.94 2.06.94-2.06 2.06-.94-2.06-.94-.94-2.06-.94 2.06-2.06.94zm-11 1L8.5 8.5l.94-2.06 2.06-.94-2.06-.94L8.5 2.5l-.94 2.06-2.06.94zm10 10l.94 2.06.94-2.06 2.06-.94-2.06-.94-.94-2.06-.94 2.06-2.06.94z\"/><path d=\"M17.41 7.96l-1.37-1.37c-.4-.4-.92-.59-1.43-.59-.52 0-1.04.2-1.43.59L10.3 9.45l-7.72 7.72c-.78.78-.78 2.05 0 2.83L4 21.41c.39.39.9.59 1.41.59.51 0 1.02-.2 1.41-.59l7.78-7.78 2.81-2.81c.8-.78.8-2.07 0-2.86zM5.41 20L4 18.59l7.72-7.72 1.47 1.35L5.41 20z\"/>\n",
              "  </svg>\n",
              "      </button>\n",
              "      \n",
              "  <style>\n",
              "    .colab-df-container {\n",
              "      display:flex;\n",
              "      flex-wrap:wrap;\n",
              "      gap: 12px;\n",
              "    }\n",
              "\n",
              "    .colab-df-convert {\n",
              "      background-color: #E8F0FE;\n",
              "      border: none;\n",
              "      border-radius: 50%;\n",
              "      cursor: pointer;\n",
              "      display: none;\n",
              "      fill: #1967D2;\n",
              "      height: 32px;\n",
              "      padding: 0 0 0 0;\n",
              "      width: 32px;\n",
              "    }\n",
              "\n",
              "    .colab-df-convert:hover {\n",
              "      background-color: #E2EBFA;\n",
              "      box-shadow: 0px 1px 2px rgba(60, 64, 67, 0.3), 0px 1px 3px 1px rgba(60, 64, 67, 0.15);\n",
              "      fill: #174EA6;\n",
              "    }\n",
              "\n",
              "    [theme=dark] .colab-df-convert {\n",
              "      background-color: #3B4455;\n",
              "      fill: #D2E3FC;\n",
              "    }\n",
              "\n",
              "    [theme=dark] .colab-df-convert:hover {\n",
              "      background-color: #434B5C;\n",
              "      box-shadow: 0px 1px 3px 1px rgba(0, 0, 0, 0.15);\n",
              "      filter: drop-shadow(0px 1px 2px rgba(0, 0, 0, 0.3));\n",
              "      fill: #FFFFFF;\n",
              "    }\n",
              "  </style>\n",
              "\n",
              "      <script>\n",
              "        const buttonEl =\n",
              "          document.querySelector('#df-f4c2f4b2-3099-49a9-9433-532a9b6d8cd6 button.colab-df-convert');\n",
              "        buttonEl.style.display =\n",
              "          google.colab.kernel.accessAllowed ? 'block' : 'none';\n",
              "\n",
              "        async function convertToInteractive(key) {\n",
              "          const element = document.querySelector('#df-f4c2f4b2-3099-49a9-9433-532a9b6d8cd6');\n",
              "          const dataTable =\n",
              "            await google.colab.kernel.invokeFunction('convertToInteractive',\n",
              "                                                     [key], {});\n",
              "          if (!dataTable) return;\n",
              "\n",
              "          const docLinkHtml = 'Like what you see? Visit the ' +\n",
              "            '<a target=\"_blank\" href=https://colab.research.google.com/notebooks/data_table.ipynb>data table notebook</a>'\n",
              "            + ' to learn more about interactive tables.';\n",
              "          element.innerHTML = '';\n",
              "          dataTable['output_type'] = 'display_data';\n",
              "          await google.colab.output.renderOutput(dataTable, element);\n",
              "          const docLink = document.createElement('div');\n",
              "          docLink.innerHTML = docLinkHtml;\n",
              "          element.appendChild(docLink);\n",
              "        }\n",
              "      </script>\n",
              "    </div>\n",
              "  </div>\n",
              "  "
            ]
          },
          "metadata": {},
          "execution_count": 14
        }
      ]
    },
    {
      "cell_type": "code",
      "source": [
        "#viewing the shape of the data\n",
        "trainsetsev.shape"
      ],
      "metadata": {
        "colab": {
          "base_uri": "https://localhost:8080/"
        },
        "id": "hs_WQGVd1rdT",
        "outputId": "dce299d1-64b1-4493-a53e-676304cb5a40"
      },
      "execution_count": null,
      "outputs": [
        {
          "output_type": "execute_result",
          "data": {
            "text/plain": [
              "(140848, 14)"
            ]
          },
          "metadata": {},
          "execution_count": 15
        }
      ]
    },
    {
      "cell_type": "markdown",
      "source": [
        "### **Splitting the data set into predictor variable, x and target variable, y**"
      ],
      "metadata": {
        "id": "aGdbpNLqvrvJ"
      }
    },
    {
      "cell_type": "code",
      "source": [
        "#for the first analysis\n",
        "x_train = trainset.drop(['no_of_accidents','date'], axis = 1)\n",
        "y_train = trainset['no_of_accidents'].copy()\n",
        "\n",
        "x_test = testset.drop(['no_of_accidents','date'], axis = 1)\n",
        "y_test = testset['no_of_accidents'].copy()\n",
        "\n",
        "#for the second analysis\n",
        "x_trainsev = trainsetsev.drop(['casualty_severity','time'], axis = 1)\n",
        "y_trainsev = trainsetsev['casualty_severity'].copy()\n",
        "\n",
        "x_testsev = testsetsev.drop(['casualty_severity','time'], axis = 1)\n",
        "y_testsev = testsetsev['casualty_severity'].copy()"
      ],
      "metadata": {
        "id": "vR6MsfN1ty8h"
      },
      "execution_count": null,
      "outputs": []
    },
    {
      "cell_type": "markdown",
      "source": [
        "## **First Analysis**\n"
      ],
      "metadata": {
        "id": "Yo7eziKexu76"
      }
    },
    {
      "cell_type": "markdown",
      "source": [
        "In this analysis we will be trying to understand the effects of different variables on the number of accidents a day. "
      ],
      "metadata": {
        "id": "aJ8Tf4kDePtY"
      }
    },
    {
      "cell_type": "markdown",
      "source": [
        "### **Baseline model**\n"
      ],
      "metadata": {
        "id": "3wJDqJy4-1Oa"
      }
    },
    {
      "cell_type": "markdown",
      "source": [
        "We will use the mean values as the baseline model."
      ],
      "metadata": {
        "id": "tuud4Ht1EeTo"
      }
    },
    {
      "cell_type": "code",
      "source": [
        "#building the naive model, the least sophisticated model\n",
        "#base value to compare the performance of less sophisticated values\n",
        "#the mean number of accidents that occured is used as the naive model\n",
        "mean_no_of_accident = y_train.mean()\n",
        "mean_no_of_accident"
      ],
      "metadata": {
        "colab": {
          "base_uri": "https://localhost:8080/"
        },
        "id": "81x-5SNvzAG0",
        "outputId": "f5ef3e98-217a-483d-ad12-19d009242e4b"
      },
      "execution_count": null,
      "outputs": [
        {
          "output_type": "execute_result",
          "data": {
            "text/plain": [
              "444.6297577854671"
            ]
          },
          "metadata": {},
          "execution_count": 286
        }
      ]
    },
    {
      "cell_type": "code",
      "source": [
        "#the RSME value of the baseline model is calculated\n",
        "#this is done to know the performance of the model\n",
        "\n",
        "# each row of yhat will contain the mean of the distribution\n",
        "yhat = np.full((y_train.shape[0], 1), mean_no_of_accident) \n",
        "#mean square error is calculated for all rows\n",
        "baseline_mse = mean_squared_error(y_train, yhat) \n",
        "# take square root\n",
        "baseline_rmse = np.sqrt(baseline_mse) \n",
        "baseline_rmse"
      ],
      "metadata": {
        "colab": {
          "base_uri": "https://localhost:8080/"
        },
        "id": "z-bFa_5__TEC",
        "outputId": "2d8533f4-cf8b-4fb7-ed72-4ab3474eb529"
      },
      "execution_count": null,
      "outputs": [
        {
          "output_type": "execute_result",
          "data": {
            "text/plain": [
              "145.9394739223431"
            ]
          },
          "metadata": {},
          "execution_count": 287
        }
      ]
    },
    {
      "cell_type": "markdown",
      "source": [
        "RMSE, root mean square error is a measure of how spread out these residuals are.In order words it tells us how concentrated the data is around the line of best fit.\n",
        "The RMSE of the naive model is calculated to be 145.94. This is will be used as our reference value of rmse.\n",
        "We will want other models produced in this report to have a smaller RMSE value than 145.94."
      ],
      "metadata": {
        "id": "HW0oo9khCGdJ"
      }
    },
    {
      "cell_type": "markdown",
      "source": [
        "### **Model Training**"
      ],
      "metadata": {
        "id": "SePA2zTiF8ZV"
      }
    },
    {
      "cell_type": "markdown",
      "source": [
        "### **Linear Regression**\n",
        "\n",
        "We will be using the linear regression model first in this analysis."
      ],
      "metadata": {
        "id": "6qdWcoClGHM8"
      }
    },
    {
      "cell_type": "code",
      "source": [
        "#instatiating a linear regression object\n",
        "lin_reg = LinearRegression()\n",
        "#fitting on the x_train and y_train\n",
        "lin_reg.fit(x_train, y_train)"
      ],
      "metadata": {
        "colab": {
          "base_uri": "https://localhost:8080/"
        },
        "id": "CM6yctyWHL3W",
        "outputId": "2d217d4c-89a7-43bf-d4aa-a44e8e71ddd4"
      },
      "execution_count": null,
      "outputs": [
        {
          "output_type": "execute_result",
          "data": {
            "text/plain": [
              "LinearRegression()"
            ]
          },
          "metadata": {},
          "execution_count": 288
        }
      ]
    },
    {
      "cell_type": "code",
      "source": [
        "#getting the r-squared value\n",
        "lin_reg.score(x_train, y_train)"
      ],
      "metadata": {
        "colab": {
          "base_uri": "https://localhost:8080/"
        },
        "id": "I8OyajZaIMm-",
        "outputId": "bc72d165-a4af-4562-c2c2-77e9eb53444e"
      },
      "execution_count": null,
      "outputs": [
        {
          "output_type": "execute_result",
          "data": {
            "text/plain": [
              "0.5513689529573427"
            ]
          },
          "metadata": {},
          "execution_count": 289
        }
      ]
    },
    {
      "cell_type": "markdown",
      "source": [
        "The value generated above is the $R^2$ value. The $R^2$ value is the percentage of the independent variable that is accounted for in the dependent variable. This means that 55% of the number of accidents in a day is explained by the independent variable. The RMSE value for the model is shown below."
      ],
      "metadata": {
        "id": "kCGIm1DZPQMT"
      }
    },
    {
      "cell_type": "code",
      "source": [
        "# each row of yhat will contain the predicted value of the no of accidents\n",
        "yhat = lin_reg.predict(x_train)\n",
        "#mean square error is calculated for all rows\n",
        "lin_mse = mean_squared_error(y_train, yhat)\n",
        "\n",
        "#take square root\n",
        "lin_rmse = np.sqrt(lin_mse)\n",
        "# take square root\n",
        "lin_rmse"
      ],
      "metadata": {
        "colab": {
          "base_uri": "https://localhost:8080/"
        },
        "id": "MgtamEavSsCr",
        "outputId": "3467073f-43fc-472b-cfbf-8912358373e6"
      },
      "execution_count": null,
      "outputs": [
        {
          "output_type": "execute_result",
          "data": {
            "text/plain": [
              "97.75015145779545"
            ]
          },
          "metadata": {},
          "execution_count": 290
        }
      ]
    },
    {
      "cell_type": "markdown",
      "source": [
        "The RMSE value of 97.75, which is less that the value of the naive model, 145.94. This shows that the regression model is better than the baseline model."
      ],
      "metadata": {
        "id": "RbGOBfsYUU6z"
      }
    },
    {
      "cell_type": "code",
      "source": [
        "lin_reg = LinearRegression()\n",
        "rmse_scores = -cross_val_score(lin_reg, x_train, \n",
        "                               y_train, \n",
        "                               scoring=\"neg_root_mean_squared_error\", \n",
        "                               cv=15)\n",
        "def display_scores(scores):\n",
        "    print(\"Scores:\", scores)\n",
        "    print(\"Mean:\", scores.mean())\n",
        "    print(\"Standard deviation:\", scores.std())\n",
        "display_scores(rmse_scores)"
      ],
      "metadata": {
        "colab": {
          "base_uri": "https://localhost:8080/"
        },
        "id": "TJ5xPDypMdbR",
        "outputId": "c8458158-68da-459a-c1a9-1f2cf9438363"
      },
      "execution_count": null,
      "outputs": [
        {
          "output_type": "stream",
          "name": "stdout",
          "text": [
            "Scores: [108.60609269  97.27414277 111.35245621 116.93281859 192.04105241\n",
            " 133.64583746  92.44225713  79.13960932 100.36271131 119.24864439\n",
            " 101.01891139  85.36389024  95.73293585 145.896317    78.90499288]\n",
            "Mean: 110.53084464201895\n",
            "Standard deviation: 28.38433995707148\n"
          ]
        }
      ]
    },
    {
      "cell_type": "markdown",
      "source": [
        "The cross validation is used to inspect the fitting of the model. Regression analysis produced models that have the RMSE of 110.53 with the standard deviation being 28.38. Since the RMSE value created by our regression model on trainset is within the standard deviation of the cross validation, we can conclude the model does not over fit on the training set."
      ],
      "metadata": {
        "id": "aE6Omrd5VDxU"
      }
    },
    {
      "cell_type": "code",
      "source": [
        "# create a temporary dataframe containing two columns for the first 40 \n",
        "df_tmp = pd.DataFrame({\"actual\": y_train[:40], \"predicted\": yhat[:40]})\n",
        "\n",
        "# plot the dataframe\n",
        "df_tmp.plot(figsize=(12,5), kind=\"bar\", cmap = 'Accent', rot=0)\n",
        "plt.title('Column Chart of Predicted Number of Accident and  Number of Accident',\n",
        "          fontweight = 'bold')\n",
        "sns.despine(top = True, right = True)\n"
      ],
      "metadata": {
        "colab": {
          "base_uri": "https://localhost:8080/",
          "height": 468
        },
        "id": "xWaBjZ8wZSvp",
        "outputId": "a3db70dc-ece8-4cc2-df20-24ba90baa100"
      },
      "execution_count": null,
      "outputs": [
        {
          "output_type": "display_data",
          "data": {
            "text/plain": [
              "<Figure size 1200x500 with 1 Axes>"
            ],
            "image/png": "[encoded data removed]"
          },
          "metadata": {}
        }
      ]
    },
    {
      "cell_type": "markdown",
      "source": [
        "From the graph above, we can see that the predicted values are close to the actual values. The model performs alright."
      ],
      "metadata": {
        "id": "mt2VERQbcsjx"
      }
    },
    {
      "cell_type": "code",
      "source": [
        "fig, ax = plt.subplots()\n",
        "ax.scatter(y_train, yhat, edgecolors='None')\n",
        "ax.plot([y_train.min(), y_train.max()], [y_train.min(), y_train.max()],\n",
        "        'black', lw=2)\n",
        "ax.set_xlabel('Number of Accident')\n",
        "ax.set_ylabel('Predicted Number of Accident')\n",
        "plt.title('Number of Accident vs Predicted Number of Accident', \n",
        "          fontweight = 'bold')\n",
        "sns.despine(top = True, right = True)\n",
        "plt.show()\n"
      ],
      "metadata": {
        "colab": {
          "base_uri": "https://localhost:8080/",
          "height": 472
        },
        "id": "1kIlW7hwXQmY",
        "outputId": "dea119d9-3fde-48d3-c97d-908fa20c7ad6"
      },
      "execution_count": null,
      "outputs": [
        {
          "output_type": "display_data",
          "data": {
            "text/plain": [
              "<Figure size 640x480 with 1 Axes>"
            ],
            "image/png": "[encoded data removed]"
          },
          "metadata": {}
        }
      ]
    },
    {
      "cell_type": "markdown",
      "source": [
        "The plot above shows that the  predicted value moves in the direction of the actual values. This can be  seen to be a good model."
      ],
      "metadata": {
        "id": "yTPfgY54SHCc"
      }
    },
    {
      "cell_type": "markdown",
      "source": [
        "### **Decision Trees**"
      ],
      "metadata": {
        "id": "05u2zo-IfElm"
      }
    },
    {
      "cell_type": "markdown",
      "source": [
        "We will be using a decision tree to create a model for evaluation."
      ],
      "metadata": {
        "id": "J0v-2SC7fNgN"
      }
    },
    {
      "cell_type": "code",
      "source": [
        "tree_reg = DecisionTreeRegressor(random_state=4)\n",
        "tree_reg.fit(x_train, y_train)\n",
        "yhat = tree_reg.predict(x_train)\n",
        "tree_mse = mean_squared_error(y_train, yhat)\n",
        "tree_rmse = np.sqrt(tree_mse)\n",
        "tree_rmse"
      ],
      "metadata": {
        "colab": {
          "base_uri": "https://localhost:8080/"
        },
        "id": "xkV94616fklJ",
        "outputId": "8037033a-2209-418c-f0f4-ddfb9604be36"
      },
      "execution_count": null,
      "outputs": [
        {
          "output_type": "execute_result",
          "data": {
            "text/plain": [
              "0.0"
            ]
          },
          "metadata": {},
          "execution_count": 294
        }
      ]
    },
    {
      "cell_type": "markdown",
      "source": [
        "We got a RMSE value of 0, this shows that the model is overfitting on the trainset. This can be seen in the plot below."
      ],
      "metadata": {
        "id": "6BzZjSy3gQ8m"
      }
    },
    {
      "cell_type": "code",
      "source": [
        "# create a temporary dataframe containing two columns\n",
        "df_tmp = pd.DataFrame({\"actual\": y_train[:40], \"predicted\": yhat[:40]})\n",
        "\n",
        "# plot the dataframe\n",
        "df_tmp.plot(figsize=(12,5), kind=\"bar\", cmap = 'Accent', rot=0)\n",
        "plt.title('Column Chart of Predicted Number of Accident and  Number of Accident',\n",
        "          fontweight = 'bold')\n",
        "sns.despine(top = True, right = True)"
      ],
      "metadata": {
        "colab": {
          "base_uri": "https://localhost:8080/",
          "height": 468
        },
        "id": "8Xe4uMZMg0U9",
        "outputId": "ad1237d5-bbeb-4f76-a1bb-b9be9527d15c"
      },
      "execution_count": null,
      "outputs": [
        {
          "output_type": "display_data",
          "data": {
            "text/plain": [
              "<Figure size 1200x500 with 1 Axes>"
            ],
            "image/png": "[encoded data removed]"
          },
          "metadata": {}
        }
      ]
    },
    {
      "cell_type": "markdown",
      "source": [
        "The model predicted the number of accident to be the same as the actual numbers. This proves to a problem and we need too confirm if this is the situation."
      ],
      "metadata": {
        "id": "pFrPAfPPhibo"
      }
    },
    {
      "cell_type": "code",
      "source": [
        "tree_reg = DecisionTreeRegressor(random_state=4)\n",
        "rmse_scores = -cross_val_score(tree_reg, x_train, y_train, \n",
        "                               scoring=\"neg_root_mean_squared_error\", \n",
        "                               cv=15)\n",
        "\n",
        "display_scores(rmse_scores)"
      ],
      "metadata": {
        "colab": {
          "base_uri": "https://localhost:8080/"
        },
        "id": "cvL_9dNBhgyY",
        "outputId": "a768079f-f41d-4013-8427-a34fa1494195"
      },
      "execution_count": null,
      "outputs": [
        {
          "output_type": "stream",
          "name": "stdout",
          "text": [
            "Scores: [133.46628788 104.07761527 127.68457229 136.37576764 136.38046627\n",
            " 166.00063411 108.79023757 145.34568594 147.21824115 169.63862519\n",
            " 193.67036564 117.3198507  169.73043644 176.80080971 108.02655619]\n",
            "Mean: 142.70174346528296\n",
            "Standard deviation: 26.665993680830947\n"
          ]
        }
      ]
    },
    {
      "cell_type": "markdown",
      "source": [
        "Decision tree model produced models that have the RMSE of 142.7 with the standard deviation being 26.66. Since the RMSE value created by our decison tree model, 0 on trainset is way of the standard deviation of the cross validation, we can conclude the model does :over fit on the training set."
      ],
      "metadata": {
        "id": "Zf2p6UDBjBYZ"
      }
    },
    {
      "cell_type": "markdown",
      "source": [
        "We need to tune the hyper parameters of the decision trees using GridSearch. This helps to find the optimal hyperparameters combinations for the decision trees."
      ],
      "metadata": {
        "id": "Lni0tRORrxzI"
      }
    },
    {
      "cell_type": "markdown",
      "source": [
        "### **Hyperparameter Tuning**"
      ],
      "metadata": {
        "id": "DQSEcof3sJq3"
      }
    },
    {
      "cell_type": "code",
      "source": [
        "#We will search for the best combination of the min_samples_leaf,\n",
        "#min_sampoles_split and the max_depth\n",
        "param_grid = {\n",
        "    'min_samples_leaf': [ 100,  50, 10, 5],\n",
        "    'min_samples_split': [2, 5, 10, 20, 30, 40, 50, 60, 70, 80],\n",
        "    'max_depth': [2, 4, 6, 8,10, 12, None]\n",
        "}\n",
        "#where max_depth is the maximum number of levels in a tree\n",
        "#min_samples_split is the minimum number of samples requires to split a node\n",
        "#min_samples_leaf is the minimum number of samples that can be a node\n",
        "dec_tree_reg = DecisionTreeRegressor(random_state=4)\n",
        "\n",
        "# we'll use 10-fold cross-validation\n",
        "grid_search = GridSearchCV(dec_tree_reg, param_grid, cv=10,\n",
        "                           scoring='neg_root_mean_squared_error', \n",
        "                           return_train_score=True, verbose=2)\n",
        "#fitting the training data to the model\n",
        "grid_search.fit(x_train, y_train)"
      ],
      "metadata": {
        "id": "iD9ax9Qbj1lB"
      },
      "execution_count": null,
      "outputs": []
    },
    {
      "cell_type": "code",
      "source": [
        "#getting our best model\n",
        "best_est = grid_search.best_estimator_\n",
        "best_est"
      ],
      "metadata": {
        "colab": {
          "base_uri": "https://localhost:8080/"
        },
        "id": "Haa6eZpLoId3",
        "outputId": "87e08803-66e6-400f-bc15-febd4e004795"
      },
      "execution_count": null,
      "outputs": [
        {
          "output_type": "execute_result",
          "data": {
            "text/plain": [
              "DecisionTreeRegressor(max_depth=4, min_samples_leaf=5, min_samples_split=50,\n",
              "                      random_state=4)"
            ]
          },
          "metadata": {},
          "execution_count": 298
        }
      ]
    },
    {
      "cell_type": "code",
      "source": [
        "#obtaining the RMSE of our best model\n",
        "-grid_search.best_score_"
      ],
      "metadata": {
        "colab": {
          "base_uri": "https://localhost:8080/"
        },
        "id": "XNBrsPVMoh6-",
        "outputId": "f07d93dd-14c7-4a5f-9430-c39f4c4a54cb"
      },
      "execution_count": null,
      "outputs": [
        {
          "output_type": "execute_result",
          "data": {
            "text/plain": [
              "110.32839910765522"
            ]
          },
          "metadata": {},
          "execution_count": 299
        }
      ]
    },
    {
      "cell_type": "markdown",
      "source": [
        "The value of our RMSE of the best estimator in the grid search is less than the base line model but greater than the regression model. It also performs better than the linear regression model but slightly better. We will then run our model, using the hyper parameters of our best model."
      ],
      "metadata": {
        "id": "fmcKPI7uucXn"
      }
    },
    {
      "cell_type": "code",
      "source": [
        "#re-training of the model based on the best estimator hyper parameters\n",
        "yhat = best_est.predict(x_train)\n",
        "\n",
        "tree_mse = mean_squared_error(y_train, yhat)\n",
        "tree_rmse = np.sqrt(tree_mse)\n",
        "tree_rmse"
      ],
      "metadata": {
        "colab": {
          "base_uri": "https://localhost:8080/"
        },
        "id": "CMKgARHixZoN",
        "outputId": "405dfc47-7658-4562-f215-8e581cdb137d"
      },
      "execution_count": null,
      "outputs": [
        {
          "output_type": "execute_result",
          "data": {
            "text/plain": [
              "89.66857116373677"
            ]
          },
          "metadata": {},
          "execution_count": 300
        }
      ]
    },
    {
      "cell_type": "markdown",
      "source": [
        "The RMSE values of this model is less than both the baseline model and the linear regression model. It is also less than the mean value of the estimator but not by much, this shows that the model seems to have over fit a little on the training set and will perform worse on a new data set."
      ],
      "metadata": {
        "id": "d6k0SSxtzJew"
      }
    },
    {
      "cell_type": "code",
      "source": [
        "#getting the r-squared value\n",
        "best_est.score(x_train, y_train)"
      ],
      "metadata": {
        "colab": {
          "base_uri": "https://localhost:8080/"
        },
        "id": "T6LQCxkOKE5e",
        "outputId": "fe8d2b9d-a63d-475c-f4c9-b460d61120c3"
      },
      "execution_count": null,
      "outputs": [
        {
          "output_type": "execute_result",
          "data": {
            "text/plain": [
              "0.6224843621002356"
            ]
          },
          "metadata": {},
          "execution_count": 301
        }
      ]
    },
    {
      "cell_type": "markdown",
      "source": [
        " This means that 62.25% of the number of accidents in a day is explained by the independent variable in our model. "
      ],
      "metadata": {
        "id": "lNR2wMiqKgQV"
      }
    },
    {
      "cell_type": "code",
      "source": [
        "# create a temporary dataframe containing two columns\n",
        "df_tmp = pd.DataFrame({\"actual\": y_train[:40], \"predicted\": yhat[:40]})\n",
        "\n",
        "# plot the dataframe\n",
        "df_tmp.plot(figsize=(12,5), kind=\"bar\", cmap = 'Accent', rot=0)\n",
        "plt.title('Column Chart of Predicted Number of Accident and  Number of Accident',\n",
        "          fontweight = 'bold')\n",
        "sns.despine(top = True, right = True)"
      ],
      "metadata": {
        "colab": {
          "base_uri": "https://localhost:8080/",
          "height": 468
        },
        "id": "Xa-g9MXCzuML",
        "outputId": "9968fc5f-3721-44db-825f-7f1e336a0e0d"
      },
      "execution_count": null,
      "outputs": [
        {
          "output_type": "display_data",
          "data": {
            "text/plain": [
              "<Figure size 1200x500 with 1 Axes>"
            ],
            "image/png": "[encoded data removed]"
          },
          "metadata": {}
        }
      ]
    },
    {
      "cell_type": "markdown",
      "source": [
        "From the column chart above, we can see that the predicted values are close to the actual values although it is conservative in most predictions. The model performs alright."
      ],
      "metadata": {
        "id": "aR7ah6Yf5gJb"
      }
    },
    {
      "cell_type": "code",
      "source": [
        "fig, ax = plt.subplots()\n",
        "ax.scatter(y_train, yhat, edgecolors='None')\n",
        "ax.plot([y_train.min(), y_train.max()], [y_train.min(), y_train.max()],\n",
        "        'black', lw=2)\n",
        "ax.set_xlabel('Number of Accident')\n",
        "ax.set_ylabel('Predicted Number of Accident')\n",
        "plt.title('Number of Accident vs Predicted Number of Accident', \n",
        "          fontweight = 'bold')\n",
        "sns.despine(top = True, right = True)\n",
        "plt.show()"
      ],
      "metadata": {
        "colab": {
          "base_uri": "https://localhost:8080/",
          "height": 472
        },
        "id": "UORe1Qar007d",
        "outputId": "5ff0904a-bdf0-40c8-efd6-441b6ca345b0"
      },
      "execution_count": null,
      "outputs": [
        {
          "output_type": "display_data",
          "data": {
            "text/plain": [
              "<Figure size 640x480 with 1 Axes>"
            ],
            "image/png": "[encoded data removed]"
          },
          "metadata": {}
        }
      ]
    },
    {
      "cell_type": "markdown",
      "source": [
        "Since the predicted vs actual value does not sit on the line, we conclude there is no problem of overfitting here. The points move in the direction of the line, this shows the predicted number of accidents are close to the actual number of accidents"
      ],
      "metadata": {
        "id": "H03C1lVu1Hk0"
      }
    },
    {
      "cell_type": "markdown",
      "source": [
        "### **Random Forest**"
      ],
      "metadata": {
        "id": "at_AYyeV5ssq"
      }
    },
    {
      "cell_type": "markdown",
      "source": [
        "We will be using a decision tree to create a model for evaluation."
      ],
      "metadata": {
        "id": "U0rRIR907Ha9"
      }
    },
    {
      "cell_type": "code",
      "source": [
        "# specify the hyperparameters and their values\n",
        "param_grid = [\n",
        "    {'n_estimators': [100, 150, 200, 500],\n",
        "     'max_depth': [None]},\n",
        "]\n",
        "\n",
        "forest_reg = RandomForestRegressor(random_state=7)\n",
        "\n",
        "# we'll use 10-fold cross-validation\n",
        "rand_grid_search = RandomizedSearchCV(forest_reg, param_grid, cv=10,\n",
        "                                      n_iter=6, random_state=7, \n",
        "                                      scoring='neg_root_mean_squared_error', \n",
        "                                      return_train_score=True, verbose=2)\n",
        "rand_grid_search.fit(x_train, y_train)"
      ],
      "metadata": {
        "colab": {
          "base_uri": "https://localhost:8080/"
        },
        "id": "p_31UwYA7RoT",
        "outputId": "a2495c89-0b61-4ef6-ffac-4278799c847e"
      },
      "execution_count": null,
      "outputs": [
        {
          "output_type": "stream",
          "name": "stdout",
          "text": [
            "Fitting 10 folds for each of 4 candidates, totalling 40 fits\n",
            "[CV] END ...................max_depth=None, n_estimators=100; total time=   0.6s\n",
            "[CV] END ...................max_depth=None, n_estimators=100; total time=   0.4s\n",
            "[CV] END ...................max_depth=None, n_estimators=100; total time=   0.4s\n",
            "[CV] END ...................max_depth=None, n_estimators=100; total time=   0.4s\n",
            "[CV] END ...................max_depth=None, n_estimators=100; total time=   0.4s\n",
            "[CV] END ...................max_depth=None, n_estimators=100; total time=   0.4s\n",
            "[CV] END ...................max_depth=None, n_estimators=100; total time=   0.4s\n",
            "[CV] END ...................max_depth=None, n_estimators=100; total time=   0.4s\n",
            "[CV] END ...................max_depth=None, n_estimators=100; total time=   0.4s\n",
            "[CV] END ...................max_depth=None, n_estimators=100; total time=   0.4s\n",
            "[CV] END ...................max_depth=None, n_estimators=150; total time=   0.6s\n",
            "[CV] END ...................max_depth=None, n_estimators=150; total time=   0.6s\n",
            "[CV] END ...................max_depth=None, n_estimators=150; total time=   0.6s\n",
            "[CV] END ...................max_depth=None, n_estimators=150; total time=   0.6s\n",
            "[CV] END ...................max_depth=None, n_estimators=150; total time=   0.6s\n",
            "[CV] END ...................max_depth=None, n_estimators=150; total time=   0.6s\n",
            "[CV] END ...................max_depth=None, n_estimators=150; total time=   0.6s\n",
            "[CV] END ...................max_depth=None, n_estimators=150; total time=   0.6s\n",
            "[CV] END ...................max_depth=None, n_estimators=150; total time=   0.6s\n",
            "[CV] END ...................max_depth=None, n_estimators=150; total time=   0.6s\n",
            "[CV] END ...................max_depth=None, n_estimators=200; total time=   0.7s\n",
            "[CV] END ...................max_depth=None, n_estimators=200; total time=   0.7s\n",
            "[CV] END ...................max_depth=None, n_estimators=200; total time=   0.8s\n",
            "[CV] END ...................max_depth=None, n_estimators=200; total time=   0.7s\n",
            "[CV] END ...................max_depth=None, n_estimators=200; total time=   0.7s\n",
            "[CV] END ...................max_depth=None, n_estimators=200; total time=   0.7s\n",
            "[CV] END ...................max_depth=None, n_estimators=200; total time=   0.7s\n",
            "[CV] END ...................max_depth=None, n_estimators=200; total time=   0.8s\n",
            "[CV] END ...................max_depth=None, n_estimators=200; total time=   0.8s\n",
            "[CV] END ...................max_depth=None, n_estimators=200; total time=   0.8s\n",
            "[CV] END ...................max_depth=None, n_estimators=500; total time=   1.9s\n",
            "[CV] END ...................max_depth=None, n_estimators=500; total time=   1.8s\n",
            "[CV] END ...................max_depth=None, n_estimators=500; total time=   1.8s\n",
            "[CV] END ...................max_depth=None, n_estimators=500; total time=   1.9s\n",
            "[CV] END ...................max_depth=None, n_estimators=500; total time=   1.9s\n",
            "[CV] END ...................max_depth=None, n_estimators=500; total time=   1.8s\n",
            "[CV] END ...................max_depth=None, n_estimators=500; total time=   1.8s\n",
            "[CV] END ...................max_depth=None, n_estimators=500; total time=   1.8s\n",
            "[CV] END ...................max_depth=None, n_estimators=500; total time=   1.8s\n",
            "[CV] END ...................max_depth=None, n_estimators=500; total time=   1.8s\n"
          ]
        },
        {
          "output_type": "execute_result",
          "data": {
            "text/plain": [
              "RandomizedSearchCV(cv=10, estimator=RandomForestRegressor(random_state=7),\n",
              "                   n_iter=6,\n",
              "                   param_distributions=[{'max_depth': [None],\n",
              "                                         'n_estimators': [100, 150, 200, 500]}],\n",
              "                   random_state=7, return_train_score=True,\n",
              "                   scoring='neg_root_mean_squared_error', verbose=2)"
            ]
          },
          "metadata": {},
          "execution_count": 304
        }
      ]
    },
    {
      "cell_type": "code",
      "source": [
        "bestrand = rand_grid_search.best_estimator_\n",
        "bestrand"
      ],
      "metadata": {
        "colab": {
          "base_uri": "https://localhost:8080/"
        },
        "id": "74whJQPD8491",
        "outputId": "bfa6a293-c978-4cc8-ad60-3d6ffec10129"
      },
      "execution_count": null,
      "outputs": [
        {
          "output_type": "execute_result",
          "data": {
            "text/plain": [
              "RandomForestRegressor(n_estimators=500, random_state=7)"
            ]
          },
          "metadata": {},
          "execution_count": 305
        }
      ]
    },
    {
      "cell_type": "code",
      "source": [
        "-rand_grid_search.best_score_"
      ],
      "metadata": {
        "colab": {
          "base_uri": "https://localhost:8080/"
        },
        "id": "EHPWTpI-8--E",
        "outputId": "7d79d220-7baa-4f65-9897-d277402c1f93"
      },
      "execution_count": null,
      "outputs": [
        {
          "output_type": "execute_result",
          "data": {
            "text/plain": [
              "100.62538201287319"
            ]
          },
          "metadata": {},
          "execution_count": 306
        }
      ]
    },
    {
      "cell_type": "code",
      "source": [
        "yhat = bestrand.predict(x_train)\n",
        "\n",
        "tree_mse = mean_squared_error(y_train, yhat)\n",
        "tree_rmse = np.sqrt(tree_mse)\n",
        "tree_rmse"
      ],
      "metadata": {
        "colab": {
          "base_uri": "https://localhost:8080/"
        },
        "id": "F0RZ7ke0_4cm",
        "outputId": "0ba637dc-cc1a-4ba5-d2e3-d7ebbc587c39"
      },
      "execution_count": null,
      "outputs": [
        {
          "output_type": "execute_result",
          "data": {
            "text/plain": [
              "36.52676763149918"
            ]
          },
          "metadata": {},
          "execution_count": 307
        }
      ]
    },
    {
      "cell_type": "markdown",
      "source": [
        "The RMSE values of this model is less than both the baseline model and the linear regression model. It is also less than the mean value of the estimator but not by much, this shows that the model seems to have over fit on the training set and will perform worse on a new data set. SO far our best model has been the random forest model"
      ],
      "metadata": {
        "id": "K5C7647uCEc_"
      }
    },
    {
      "cell_type": "code",
      "source": [
        "#getting the r-squared value\n",
        "bestrand.score(x_train, y_train)"
      ],
      "metadata": {
        "colab": {
          "base_uri": "https://localhost:8080/"
        },
        "id": "54iaUjxAKUen",
        "outputId": "31fb5b86-43ea-4ac5-e033-865260d63a9a"
      },
      "execution_count": null,
      "outputs": [
        {
          "output_type": "execute_result",
          "data": {
            "text/plain": [
              "0.9373563678207214"
            ]
          },
          "metadata": {},
          "execution_count": 308
        }
      ]
    },
    {
      "cell_type": "markdown",
      "source": [
        " This means that 94% of the number of accidents in a day is explained by the independent variable. "
      ],
      "metadata": {
        "id": "BmSPRMMFKY21"
      }
    },
    {
      "cell_type": "code",
      "source": [
        "# create a temporary dataframe containing two columns\n",
        "df_tmp = pd.DataFrame({\"actual\": y_train[:40], \"predicted\": yhat[:40]})\n",
        "\n",
        "# plot the dataframe\n",
        "df_tmp.plot(figsize=(12,5), kind=\"bar\", cmap = 'Accent', rot=0)\n",
        "plt.title('Column Chart of Predicted Number of Accident and  Number of Accident',\n",
        "          fontweight = 'bold')\n",
        "sns.despine(top = True, right = True)"
      ],
      "metadata": {
        "colab": {
          "base_uri": "https://localhost:8080/",
          "height": 468
        },
        "id": "O0My_8WsAp0O",
        "outputId": "9e0e7c5a-c150-42d1-8132-bb0cd423784c"
      },
      "execution_count": null,
      "outputs": [
        {
          "output_type": "display_data",
          "data": {
            "text/plain": [
              "<Figure size 1200x500 with 1 Axes>"
            ],
            "image/png": "[encoded data removed]"
          },
          "metadata": {}
        }
      ]
    },
    {
      "cell_type": "markdown",
      "source": [
        "From the column chart above, we can see that the predicted values are close to the actual values although it is conservative in most predictions. The model performs alright."
      ],
      "metadata": {
        "id": "QzQ4zbMtCVwc"
      }
    },
    {
      "cell_type": "code",
      "source": [
        "fig, ax = plt.subplots()\n",
        "ax.scatter(y_train, yhat, edgecolors='None')\n",
        "ax.plot([y_train.min(), y_train.max()], [y_train.min(), y_train.max()],\n",
        "        'black', lw=2)\n",
        "ax.set_xlabel('Number of Accident')\n",
        "ax.set_ylabel('Predicted Number of Accident')\n",
        "plt.title('Number of Accident vs Predicted Number of Accident', \n",
        "          fontweight = 'bold')\n",
        "sns.despine(top = True, right = True)\n",
        "plt.show()"
      ],
      "metadata": {
        "colab": {
          "base_uri": "https://localhost:8080/",
          "height": 472
        },
        "id": "vU77AzsxAuNe",
        "outputId": "77dcd5a2-d7ca-438f-901d-1ca8d6e6b66f"
      },
      "execution_count": null,
      "outputs": [
        {
          "output_type": "display_data",
          "data": {
            "text/plain": [
              "<Figure size 640x480 with 1 Axes>"
            ],
            "image/png": "[encoded data removed]"
          },
          "metadata": {}
        }
      ]
    },
    {
      "cell_type": "markdown",
      "source": [
        "The predicted number of accidents in a day is similar to the actual number of accidents that occured in the training set using random forest algorithm. This is most definitely as a result of over-fitting of the model and will perform worse on a different data but the RMSE value will be around 100 as this is seen from the mean performance of the model on different distribution of the training data."
      ],
      "metadata": {
        "id": "8nJLKe36EcHt"
      }
    },
    {
      "cell_type": "markdown",
      "source": [
        "<table font-family =  'arial', sans-serif,\n",
        "  border-collapse = 'collapse',\n",
        "  width = '100%' >\n",
        "  <tr>\n",
        "    <th>model</th>\n",
        "    <th>RMSE</th>\n",
        "    <th>RMSE_CROSS_VAL</th>\n",
        "    <th>R-Square</th>\n",
        "  </tr>\n",
        "  <tr>\n",
        "    <th>Base Model</th>\n",
        "    <th>145.94</th>\n",
        "    <th> </th>\n",
        "    <th> </th>\n",
        "  </tr>\n",
        "  <tr>\n",
        "    <th>Linear Regression</th>\n",
        "    <th>97.75</th>\n",
        "    <th>110.54</th>\n",
        "    <th>55.3</th>\n",
        "  </tr>\n",
        "  <tr>\n",
        "    <th>Decision Tree</th>\n",
        "    <th>89.67</th>\n",
        "    <th>110.32</th>\n",
        "    <th>62.25</th>\n",
        "  </tr>\n",
        "  <tr>\n",
        "    <th>Random Forest</th>\n",
        "    <th>36.53</th>\n",
        "    <th>100.62</th>\n",
        "    <th>93.73</th>\n",
        "  </tr>"
      ],
      "metadata": {
        "id": "g4zInXjTGl44"
      }
    },
    {
      "cell_type": "markdown",
      "source": [
        "From the table above, we will be using the random forest algorithm because it performs the best on the training test and has the best on cross validation. The adjusted r-squeared value is high as a result of overfitting but we still expect this to be higher than the others based on the validation score."
      ],
      "metadata": {
        "id": "IxeLu-2vNrPp"
      }
    },
    {
      "cell_type": "markdown",
      "source": [
        "### **Feature Importance**"
      ],
      "metadata": {
        "id": "TxsZDryDFhC2"
      }
    },
    {
      "cell_type": "markdown",
      "source": [
        "We are about to examine the variables with the most importance for the regression problem in the best perfoming model. These will be stored as an attribute on the model object."
      ],
      "metadata": {
        "id": "NcR3JucLFvnu"
      }
    },
    {
      "cell_type": "code",
      "source": [
        "# put them into a separate variable for convenience\n",
        "feature_importances = rand_grid_search.best_estimator_.feature_importances_\n",
        "\n",
        "# the order of the features in `feature_importances` is the same as in the Xtrain dataframe,\n",
        "# so we can \"zip\" the two and print in the descending order:\n",
        "\n",
        "for k, v in sorted(zip(feature_importances, x_train.columns), reverse=True):\n",
        "    print(f\"{v}: {k:.3f}\")"
      ],
      "metadata": {
        "colab": {
          "base_uri": "https://localhost:8080/"
        },
        "id": "T_2xmlWrFRcG",
        "outputId": "f73f9ebb-9f72-4c8e-c310-6b082d9e4aa7"
      },
      "execution_count": null,
      "outputs": [
        {
          "output_type": "stream",
          "name": "stdout",
          "text": [
            "female: 0.312\n",
            "male: 0.091\n",
            "dual_carriageway: 0.075\n",
            "morning: 0.074\n",
            "urban_area: 0.062\n",
            "slip_road: 0.042\n",
            "non_junction_crossing: 0.039\n",
            "afternoon: 0.026\n",
            "central_refuge: 0.022\n",
            "zebra: 0.020\n",
            "roundabout: 0.019\n",
            "night: 0.018\n",
            "no_high_wind: 0.018\n",
            "evening: 0.018\n",
            "other: 0.017\n",
            "no_crossing_facilities: 0.017\n",
            "single_carriageway: 0.015\n",
            "frost: 0.015\n",
            "one_way_street: 0.014\n",
            "rainy: 0.013\n",
            "pedestrian_phase: 0.013\n",
            "fine: 0.011\n",
            "footbridge: 0.009\n",
            "wet: 0.009\n",
            "fog: 0.009\n",
            "day_of_week: 0.008\n",
            "dry: 0.008\n",
            "flood: 0.004\n",
            "snow: 0.002\n"
          ]
        }
      ]
    },
    {
      "cell_type": "markdown",
      "source": [
        "We can notice that the number of female relative to men on the road is by far the most useful variable for determining the number of accidents that occur in the day. Other useful features are the number of male relative to females on the road, number of dual_carriageway road that an accident occured, the morning time in relation to other time of the day.\n",
        "\n",
        "There are some features that are much less useful: the day of the week, dry road, flood and snow. We will remove these columns if we were to predict the number of accidents that occur per day but that is not the case here."
      ],
      "metadata": {
        "id": "Q5wxFsN8R7Og"
      }
    },
    {
      "cell_type": "markdown",
      "source": [
        "### **Evaluation on test set**"
      ],
      "metadata": {
        "id": "SQfgoQwUiZa5"
      }
    },
    {
      "cell_type": "code",
      "source": [
        "yhat = bestrand.predict(x_test)\n",
        "\n",
        "final_mse = mean_squared_error(y_test, yhat)\n",
        "final_rmse = np.sqrt(final_mse)\n",
        "final_rmse"
      ],
      "metadata": {
        "colab": {
          "base_uri": "https://localhost:8080/"
        },
        "id": "eYofOKMZihyI",
        "outputId": "e6eb1e3e-8f73-4442-8856-5df3e1b819a8"
      },
      "execution_count": null,
      "outputs": [
        {
          "output_type": "execute_result",
          "data": {
            "text/plain": [
              "114.81360841963665"
            ]
          },
          "metadata": {},
          "execution_count": 312
        }
      ]
    },
    {
      "cell_type": "markdown",
      "source": [
        "The performance on the test set turns out to be very similar to the performance on the training set achieved with the cross-validation, it is a bit worse but this is not uncommon as the test set is a new data set."
      ],
      "metadata": {
        "id": "C2Pzjl7zi-Mp"
      }
    },
    {
      "cell_type": "markdown",
      "source": [
        "We will visualise the prediction on the test set below"
      ],
      "metadata": {
        "id": "gaTox_2YjqzK"
      }
    },
    {
      "cell_type": "code",
      "source": [
        "# create a temporary dataframe containing two columns\n",
        "df_tmp = pd.DataFrame({\"actual\": y_test[:25], \"predicted\": yhat[:25]})\n",
        "# plot the dataframe\n",
        "df_tmp.plot(figsize=(12,5), kind=\"bar\", cmap = 'Accent', rot=0)\n",
        "plt.title('Column Chart of Predicted Number of Accident and  Number of Accident',\n",
        "          fontweight = 'bold')\n",
        "sns.despine(top = True, right = True)"
      ],
      "metadata": {
        "colab": {
          "base_uri": "https://localhost:8080/",
          "height": 468
        },
        "id": "rGU1arn-jsIr",
        "outputId": "3b694b9c-54a2-461c-96b9-8e2773c32cc2"
      },
      "execution_count": null,
      "outputs": [
        {
          "output_type": "display_data",
          "data": {
            "text/plain": [
              "<Figure size 1200x500 with 1 Axes>"
            ],
            "image/png": "[encoded data removed]"
          },
          "metadata": {}
        }
      ]
    },
    {
      "cell_type": "code",
      "source": [
        "fig, ax = plt.subplots()\n",
        "ax.scatter(y_test, yhat, edgecolors='None')\n",
        "ax.plot([y_train.min(), y_train.max()], [y_train.min(), y_train.max()],\n",
        "        'black', lw=2)\n",
        "ax.set_xlabel('Number of Accident')\n",
        "ax.set_ylabel('Predicted Number of Accident')\n",
        "plt.title('Number of Accident vs Predicted Number of Accident', \n",
        "          fontweight = 'bold')\n",
        "sns.despine(top = True, right = True)\n",
        "plt.show()"
      ],
      "metadata": {
        "colab": {
          "base_uri": "https://localhost:8080/",
          "height": 472
        },
        "id": "ZgGD0KuCj4ND",
        "outputId": "a65d5ec0-06ea-4443-bb30-c2454e3ab036"
      },
      "execution_count": null,
      "outputs": [
        {
          "output_type": "display_data",
          "data": {
            "text/plain": [
              "<Figure size 640x480 with 1 Axes>"
            ],
            "image/png": "[encoded data removed]"
          },
          "metadata": {}
        }
      ]
    },
    {
      "cell_type": "markdown",
      "source": [
        "From the charts above, we can see the predicted number of accidents in a day is similar to the actual number of accidents that occured in the test set using random forest algorithm. The model is good and is fit for prediction and evaluation."
      ],
      "metadata": {
        "id": "Ap4Zr6lqkVmj"
      }
    },
    {
      "cell_type": "markdown",
      "source": [
        "## **Second Analysis**\n"
      ],
      "metadata": {
        "id": "N6SYEJ-le1Cl"
      }
    },
    {
      "cell_type": "markdown",
      "source": [
        "In this analysis we will be trying to understand the effects of different variables on the severity of accident. "
      ],
      "metadata": {
        "id": "0B3_SA9Oe1Cm"
      }
    },
    {
      "cell_type": "code",
      "source": [
        "def get_dummies(trainset, testset, old_col_name):\n",
        "    \"\"\"Given a trainset, a testset, and the name of a column holding a \n",
        "    categorical variable, fit an encoder on the trainset, and use the \n",
        "    encoder to add dummy columns into the trainset and testset\n",
        "    \"\"\"\n",
        "    \n",
        "    one_hot_encoder = OneHotEncoder(drop=\"first\", sparse=False)\n",
        "    \n",
        "    # the input to the encoder must be a 2-d numpy array,\n",
        "    # so we take the column, extract their values and reshape the array to be 2-d\n",
        "    cat_vals = trainset[old_col_name].values.reshape(-1,1)\n",
        "\n",
        "    # fit an encoder and transform the **trainset**\n",
        "    \n",
        "    # the output is a new numpy array\n",
        "    transformed = one_hot_encoder.fit_transform(cat_vals)\n",
        "    \n",
        "    # in the list of new columns, convert numpy array to a list and\n",
        "    # drop the first column, because we requested \"drop='first'\"\n",
        "    new_col_names = one_hot_encoder.categories_[0].tolist()[1:]\n",
        "    \n",
        "    for i, new_col_name in enumerate(new_col_names):\n",
        "        \n",
        "        # put the transformed data as columns in the trainset dataframe\n",
        "        trainset[new_col_name] = transformed[:,i]\n",
        "    \n",
        "    # transform the **testset** using the fitted encoder\n",
        "    \n",
        "    cat_vals = testset[old_col_name].values.reshape(-1,1)\n",
        "    transformed = one_hot_encoder.transform(cat_vals)\n",
        "\n",
        "    for i, new_col_name in enumerate(new_col_names):\n",
        "        \n",
        "        # put the transformed data as columns in the trainset dataframe\n",
        "        testset[new_col_name] = transformed[:,i]\n",
        "    \n",
        "    return trainset, testset\n",
        "\n",
        "\n",
        "for col_name in ['casualty_class', 'day_of_week', 'road_type',\n",
        "                 'pedestrian_crossing_physical_facilities', 'weather_conditions',\n",
        "                 'road_surface_conditions', 'urban_or_rural_area', \n",
        "                 'sex_of_driver', 'high_wind', 'time_category']:\n",
        "    x_trainsev, x_testsev = get_dummies( x_trainsev, x_testsev, col_name)\n",
        "\n",
        "# check if the dummies are produced correctly in the trainset\n",
        "x_trainsev.head()"
      ],
      "metadata": {
        "colab": {
          "base_uri": "https://localhost:8080/",
          "height": 300
        },
        "id": "UA-hcTj3zokg",
        "outputId": "3823f81f-6d91-471c-dcdd-be59e307249c"
      },
      "execution_count": null,
      "outputs": [
        {
          "output_type": "execute_result",
          "data": {
            "text/plain": [
              "        casualty_class  day_of_week           road_type  \\\n",
              "116740               1            7          roundabout   \n",
              "168857               1            7    dual_carriageway   \n",
              "115780               1            3  single_carriageway   \n",
              "75869                2            5    dual_carriageway   \n",
              "66321                1            4  single_carriageway   \n",
              "\n",
              "       pedestrian_crossing_physical_facilities weather_conditions  \\\n",
              "116740                  no_crossing_facilities               fine   \n",
              "168857                   non_junction_crossing               fine   \n",
              "115780                  no_crossing_facilities               fine   \n",
              "75869                   no_crossing_facilities               fine   \n",
              "66321                   no_crossing_facilities               fine   \n",
              "\n",
              "       road_surface_conditions urban_or_rural_area  age_of_driver  \\\n",
              "116740                     dry               urban           31.0   \n",
              "168857                     dry               rural           58.0   \n",
              "115780                     dry               urban           30.0   \n",
              "75869                      wet               rural           41.0   \n",
              "66321                      dry               rural           27.0   \n",
              "\n",
              "       sex_of_driver  age_of_vehicle  ...  fog  other  rainy  snow  flood  \\\n",
              "116740          male            10.0  ...  0.0    0.0    0.0   0.0    0.0   \n",
              "168857        female            11.0  ...  0.0    0.0    0.0   0.0    0.0   \n",
              "115780         other            10.0  ...  0.0    1.0    0.0   0.0    0.0   \n",
              "75869           male             2.0  ...  0.0    0.0    0.0   0.0    0.0   \n",
              "66321           male             6.0  ...  0.0    0.0    0.0   0.0    0.0   \n",
              "\n",
              "        frost  wet  urban  male  no_high_wind  \n",
              "116740    0.0  0.0    1.0   1.0           1.0  \n",
              "168857    0.0  0.0    0.0   0.0           1.0  \n",
              "115780    0.0  0.0    1.0   0.0           1.0  \n",
              "75869     0.0  1.0    0.0   1.0           0.0  \n",
              "66321     0.0  0.0    0.0   1.0           1.0  \n",
              "\n",
              "[5 rows x 37 columns]"
            ],
            "text/html": [
              "\n",
              "  <div id=\"df-76c11fa1-6f70-4c43-bf75-c72f08bbda05\">\n",
              "    <div class=\"colab-df-container\">\n",
              "      <div>\n",
              "<style scoped>\n",
              "    .dataframe tbody tr th:only-of-type {\n",
              "        vertical-align: middle;\n",
              "    }\n",
              "\n",
              "    .dataframe tbody tr th {\n",
              "        vertical-align: top;\n",
              "    }\n",
              "\n",
              "    .dataframe thead th {\n",
              "        text-align: right;\n",
              "    }\n",
              "</style>\n",
              "<table border=\"1\" class=\"dataframe\">\n",
              "  <thead>\n",
              "    <tr style=\"text-align: right;\">\n",
              "      <th></th>\n",
              "      <th>casualty_class</th>\n",
              "      <th>day_of_week</th>\n",
              "      <th>road_type</th>\n",
              "      <th>pedestrian_crossing_physical_facilities</th>\n",
              "      <th>weather_conditions</th>\n",
              "      <th>road_surface_conditions</th>\n",
              "      <th>urban_or_rural_area</th>\n",
              "      <th>age_of_driver</th>\n",
              "      <th>sex_of_driver</th>\n",
              "      <th>age_of_vehicle</th>\n",
              "      <th>...</th>\n",
              "      <th>fog</th>\n",
              "      <th>other</th>\n",
              "      <th>rainy</th>\n",
              "      <th>snow</th>\n",
              "      <th>flood</th>\n",
              "      <th>frost</th>\n",
              "      <th>wet</th>\n",
              "      <th>urban</th>\n",
              "      <th>male</th>\n",
              "      <th>no_high_wind</th>\n",
              "    </tr>\n",
              "  </thead>\n",
              "  <tbody>\n",
              "    <tr>\n",
              "      <th>116740</th>\n",
              "      <td>1</td>\n",
              "      <td>7</td>\n",
              "      <td>roundabout</td>\n",
              "      <td>no_crossing_facilities</td>\n",
              "      <td>fine</td>\n",
              "      <td>dry</td>\n",
              "      <td>urban</td>\n",
              "      <td>31.0</td>\n",
              "      <td>male</td>\n",
              "      <td>10.0</td>\n",
              "      <td>...</td>\n",
              "      <td>0.0</td>\n",
              "      <td>0.0</td>\n",
              "      <td>0.0</td>\n",
              "      <td>0.0</td>\n",
              "      <td>0.0</td>\n",
              "      <td>0.0</td>\n",
              "      <td>0.0</td>\n",
              "      <td>1.0</td>\n",
              "      <td>1.0</td>\n",
              "      <td>1.0</td>\n",
              "    </tr>\n",
              "    <tr>\n",
              "      <th>168857</th>\n",
              "      <td>1</td>\n",
              "      <td>7</td>\n",
              "      <td>dual_carriageway</td>\n",
              "      <td>non_junction_crossing</td>\n",
              "      <td>fine</td>\n",
              "      <td>dry</td>\n",
              "      <td>rural</td>\n",
              "      <td>58.0</td>\n",
              "      <td>female</td>\n",
              "      <td>11.0</td>\n",
              "      <td>...</td>\n",
              "      <td>0.0</td>\n",
              "      <td>0.0</td>\n",
              "      <td>0.0</td>\n",
              "      <td>0.0</td>\n",
              "      <td>0.0</td>\n",
              "      <td>0.0</td>\n",
              "      <td>0.0</td>\n",
              "      <td>0.0</td>\n",
              "      <td>0.0</td>\n",
              "      <td>1.0</td>\n",
              "    </tr>\n",
              "    <tr>\n",
              "      <th>115780</th>\n",
              "      <td>1</td>\n",
              "      <td>3</td>\n",
              "      <td>single_carriageway</td>\n",
              "      <td>no_crossing_facilities</td>\n",
              "      <td>fine</td>\n",
              "      <td>dry</td>\n",
              "      <td>urban</td>\n",
              "      <td>30.0</td>\n",
              "      <td>other</td>\n",
              "      <td>10.0</td>\n",
              "      <td>...</td>\n",
              "      <td>0.0</td>\n",
              "      <td>1.0</td>\n",
              "      <td>0.0</td>\n",
              "      <td>0.0</td>\n",
              "      <td>0.0</td>\n",
              "      <td>0.0</td>\n",
              "      <td>0.0</td>\n",
              "      <td>1.0</td>\n",
              "      <td>0.0</td>\n",
              "      <td>1.0</td>\n",
              "    </tr>\n",
              "    <tr>\n",
              "      <th>75869</th>\n",
              "      <td>2</td>\n",
              "      <td>5</td>\n",
              "      <td>dual_carriageway</td>\n",
              "      <td>no_crossing_facilities</td>\n",
              "      <td>fine</td>\n",
              "      <td>wet</td>\n",
              "      <td>rural</td>\n",
              "      <td>41.0</td>\n",
              "      <td>male</td>\n",
              "      <td>2.0</td>\n",
              "      <td>...</td>\n",
              "      <td>0.0</td>\n",
              "      <td>0.0</td>\n",
              "      <td>0.0</td>\n",
              "      <td>0.0</td>\n",
              "      <td>0.0</td>\n",
              "      <td>0.0</td>\n",
              "      <td>1.0</td>\n",
              "      <td>0.0</td>\n",
              "      <td>1.0</td>\n",
              "      <td>0.0</td>\n",
              "    </tr>\n",
              "    <tr>\n",
              "      <th>66321</th>\n",
              "      <td>1</td>\n",
              "      <td>4</td>\n",
              "      <td>single_carriageway</td>\n",
              "      <td>no_crossing_facilities</td>\n",
              "      <td>fine</td>\n",
              "      <td>dry</td>\n",
              "      <td>rural</td>\n",
              "      <td>27.0</td>\n",
              "      <td>male</td>\n",
              "      <td>6.0</td>\n",
              "      <td>...</td>\n",
              "      <td>0.0</td>\n",
              "      <td>0.0</td>\n",
              "      <td>0.0</td>\n",
              "      <td>0.0</td>\n",
              "      <td>0.0</td>\n",
              "      <td>0.0</td>\n",
              "      <td>0.0</td>\n",
              "      <td>0.0</td>\n",
              "      <td>1.0</td>\n",
              "      <td>1.0</td>\n",
              "    </tr>\n",
              "  </tbody>\n",
              "</table>\n",
              "<p>5 rows × 37 columns</p>\n",
              "</div>\n",
              "      <button class=\"colab-df-convert\" onclick=\"convertToInteractive('df-76c11fa1-6f70-4c43-bf75-c72f08bbda05')\"\n",
              "              title=\"Convert this dataframe to an interactive table.\"\n",
              "              style=\"display:none;\">\n",
              "        \n",
              "  <svg xmlns=\"http://www.w3.org/2000/svg\" height=\"24px\"viewBox=\"0 0 24 24\"\n",
              "       width=\"24px\">\n",
              "    <path d=\"M0 0h24v24H0V0z\" fill=\"none\"/>\n",
              "    <path d=\"M18.56 5.44l.94 2.06.94-2.06 2.06-.94-2.06-.94-.94-2.06-.94 2.06-2.06.94zm-11 1L8.5 8.5l.94-2.06 2.06-.94-2.06-.94L8.5 2.5l-.94 2.06-2.06.94zm10 10l.94 2.06.94-2.06 2.06-.94-2.06-.94-.94-2.06-.94 2.06-2.06.94z\"/><path d=\"M17.41 7.96l-1.37-1.37c-.4-.4-.92-.59-1.43-.59-.52 0-1.04.2-1.43.59L10.3 9.45l-7.72 7.72c-.78.78-.78 2.05 0 2.83L4 21.41c.39.39.9.59 1.41.59.51 0 1.02-.2 1.41-.59l7.78-7.78 2.81-2.81c.8-.78.8-2.07 0-2.86zM5.41 20L4 18.59l7.72-7.72 1.47 1.35L5.41 20z\"/>\n",
              "  </svg>\n",
              "      </button>\n",
              "      \n",
              "  <style>\n",
              "    .colab-df-container {\n",
              "      display:flex;\n",
              "      flex-wrap:wrap;\n",
              "      gap: 12px;\n",
              "    }\n",
              "\n",
              "    .colab-df-convert {\n",
              "      background-color: #E8F0FE;\n",
              "      border: none;\n",
              "      border-radius: 50%;\n",
              "      cursor: pointer;\n",
              "      display: none;\n",
              "      fill: #1967D2;\n",
              "      height: 32px;\n",
              "      padding: 0 0 0 0;\n",
              "      width: 32px;\n",
              "    }\n",
              "\n",
              "    .colab-df-convert:hover {\n",
              "      background-color: #E2EBFA;\n",
              "      box-shadow: 0px 1px 2px rgba(60, 64, 67, 0.3), 0px 1px 3px 1px rgba(60, 64, 67, 0.15);\n",
              "      fill: #174EA6;\n",
              "    }\n",
              "\n",
              "    [theme=dark] .colab-df-convert {\n",
              "      background-color: #3B4455;\n",
              "      fill: #D2E3FC;\n",
              "    }\n",
              "\n",
              "    [theme=dark] .colab-df-convert:hover {\n",
              "      background-color: #434B5C;\n",
              "      box-shadow: 0px 1px 3px 1px rgba(0, 0, 0, 0.15);\n",
              "      filter: drop-shadow(0px 1px 2px rgba(0, 0, 0, 0.3));\n",
              "      fill: #FFFFFF;\n",
              "    }\n",
              "  </style>\n",
              "\n",
              "      <script>\n",
              "        const buttonEl =\n",
              "          document.querySelector('#df-76c11fa1-6f70-4c43-bf75-c72f08bbda05 button.colab-df-convert');\n",
              "        buttonEl.style.display =\n",
              "          google.colab.kernel.accessAllowed ? 'block' : 'none';\n",
              "\n",
              "        async function convertToInteractive(key) {\n",
              "          const element = document.querySelector('#df-76c11fa1-6f70-4c43-bf75-c72f08bbda05');\n",
              "          const dataTable =\n",
              "            await google.colab.kernel.invokeFunction('convertToInteractive',\n",
              "                                                     [key], {});\n",
              "          if (!dataTable) return;\n",
              "\n",
              "          const docLinkHtml = 'Like what you see? Visit the ' +\n",
              "            '<a target=\"_blank\" href=https://colab.research.google.com/notebooks/data_table.ipynb>data table notebook</a>'\n",
              "            + ' to learn more about interactive tables.';\n",
              "          element.innerHTML = '';\n",
              "          dataTable['output_type'] = 'display_data';\n",
              "          await google.colab.output.renderOutput(dataTable, element);\n",
              "          const docLink = document.createElement('div');\n",
              "          docLink.innerHTML = docLinkHtml;\n",
              "          element.appendChild(docLink);\n",
              "        }\n",
              "      </script>\n",
              "    </div>\n",
              "  </div>\n",
              "  "
            ]
          },
          "metadata": {},
          "execution_count": 18
        }
      ]
    },
    {
      "cell_type": "code",
      "source": [
        "# time of the day column was replaced with their value labels \n",
        "#trainset and testset for better viewing\n",
        "trainsetsev = trainsetsev.rename(columns = {'1': 'morning', '2': 'afternoon', \n",
        "                                      '3': 'evening', '4': 'night'})\n",
        "testsetsev = testsetsev.rename(columns = {'1': 'morning', '2': 'afternoon', \n",
        "                                    '3': 'evening', '4': 'night'})"
      ],
      "metadata": {
        "id": "V-9kdjZm2UpT"
      },
      "execution_count": null,
      "outputs": []
    },
    {
      "cell_type": "code",
      "source": [
        "cols_to_drop = ['casualty_class', 'day_of_week', 'road_type',\n",
        "                 'pedestrian_crossing_physical_facilities', 'weather_conditions',\n",
        "                 'road_surface_conditions', 'urban_or_rural_area', \n",
        "                 'sex_of_driver', 'high_wind', 'time_category']\n",
        "x_trainsev.drop(columns=cols_to_drop, inplace=True)\n",
        "x_testsev.drop(columns=cols_to_drop, inplace=True)\n",
        "x_trainsev.head()"
      ],
      "metadata": {
        "colab": {
          "base_uri": "https://localhost:8080/",
          "height": 236
        },
        "id": "bspjFm6k2GTk",
        "outputId": "daba197d-f782-4d9c-f5d1-330902839290"
      },
      "execution_count": null,
      "outputs": [
        {
          "output_type": "execute_result",
          "data": {
            "text/plain": [
              "        age_of_driver  age_of_vehicle    2    3    4    5    6    7  \\\n",
              "116740           31.0            10.0  1.0  0.0  0.0  0.0  0.0  1.0   \n",
              "168857           58.0            11.0  0.0  0.0  0.0  0.0  0.0  1.0   \n",
              "115780           30.0            10.0  0.0  1.0  0.0  0.0  0.0  0.0   \n",
              "75869            41.0             2.0  1.0  0.0  0.0  1.0  0.0  0.0   \n",
              "66321            27.0             6.0  1.0  0.0  0.0  0.0  0.0  0.0   \n",
              "\n",
              "        one_way_street  roundabout  ...  fog  other  rainy  snow  flood  \\\n",
              "116740             0.0         1.0  ...  0.0    0.0    0.0   0.0    0.0   \n",
              "168857             0.0         0.0  ...  0.0    0.0    0.0   0.0    0.0   \n",
              "115780             0.0         0.0  ...  0.0    1.0    0.0   0.0    0.0   \n",
              "75869              0.0         0.0  ...  0.0    0.0    0.0   0.0    0.0   \n",
              "66321              0.0         0.0  ...  0.0    0.0    0.0   0.0    0.0   \n",
              "\n",
              "        frost  wet  urban  male  no_high_wind  \n",
              "116740    0.0  0.0    1.0   1.0           1.0  \n",
              "168857    0.0  0.0    0.0   0.0           1.0  \n",
              "115780    0.0  0.0    1.0   0.0           1.0  \n",
              "75869     0.0  1.0    0.0   1.0           0.0  \n",
              "66321     0.0  0.0    0.0   1.0           1.0  \n",
              "\n",
              "[5 rows x 27 columns]"
            ],
            "text/html": [
              "\n",
              "  <div id=\"df-9e9d512d-180d-4ad4-9c79-747aaf0f3281\">\n",
              "    <div class=\"colab-df-container\">\n",
              "      <div>\n",
              "<style scoped>\n",
              "    .dataframe tbody tr th:only-of-type {\n",
              "        vertical-align: middle;\n",
              "    }\n",
              "\n",
              "    .dataframe tbody tr th {\n",
              "        vertical-align: top;\n",
              "    }\n",
              "\n",
              "    .dataframe thead th {\n",
              "        text-align: right;\n",
              "    }\n",
              "</style>\n",
              "<table border=\"1\" class=\"dataframe\">\n",
              "  <thead>\n",
              "    <tr style=\"text-align: right;\">\n",
              "      <th></th>\n",
              "      <th>age_of_driver</th>\n",
              "      <th>age_of_vehicle</th>\n",
              "      <th>2</th>\n",
              "      <th>3</th>\n",
              "      <th>4</th>\n",
              "      <th>5</th>\n",
              "      <th>6</th>\n",
              "      <th>7</th>\n",
              "      <th>one_way_street</th>\n",
              "      <th>roundabout</th>\n",
              "      <th>...</th>\n",
              "      <th>fog</th>\n",
              "      <th>other</th>\n",
              "      <th>rainy</th>\n",
              "      <th>snow</th>\n",
              "      <th>flood</th>\n",
              "      <th>frost</th>\n",
              "      <th>wet</th>\n",
              "      <th>urban</th>\n",
              "      <th>male</th>\n",
              "      <th>no_high_wind</th>\n",
              "    </tr>\n",
              "  </thead>\n",
              "  <tbody>\n",
              "    <tr>\n",
              "      <th>116740</th>\n",
              "      <td>31.0</td>\n",
              "      <td>10.0</td>\n",
              "      <td>1.0</td>\n",
              "      <td>0.0</td>\n",
              "      <td>0.0</td>\n",
              "      <td>0.0</td>\n",
              "      <td>0.0</td>\n",
              "      <td>1.0</td>\n",
              "      <td>0.0</td>\n",
              "      <td>1.0</td>\n",
              "      <td>...</td>\n",
              "      <td>0.0</td>\n",
              "      <td>0.0</td>\n",
              "      <td>0.0</td>\n",
              "      <td>0.0</td>\n",
              "      <td>0.0</td>\n",
              "      <td>0.0</td>\n",
              "      <td>0.0</td>\n",
              "      <td>1.0</td>\n",
              "      <td>1.0</td>\n",
              "      <td>1.0</td>\n",
              "    </tr>\n",
              "    <tr>\n",
              "      <th>168857</th>\n",
              "      <td>58.0</td>\n",
              "      <td>11.0</td>\n",
              "      <td>0.0</td>\n",
              "      <td>0.0</td>\n",
              "      <td>0.0</td>\n",
              "      <td>0.0</td>\n",
              "      <td>0.0</td>\n",
              "      <td>1.0</td>\n",
              "      <td>0.0</td>\n",
              "      <td>0.0</td>\n",
              "      <td>...</td>\n",
              "      <td>0.0</td>\n",
              "      <td>0.0</td>\n",
              "      <td>0.0</td>\n",
              "      <td>0.0</td>\n",
              "      <td>0.0</td>\n",
              "      <td>0.0</td>\n",
              "      <td>0.0</td>\n",
              "      <td>0.0</td>\n",
              "      <td>0.0</td>\n",
              "      <td>1.0</td>\n",
              "    </tr>\n",
              "    <tr>\n",
              "      <th>115780</th>\n",
              "      <td>30.0</td>\n",
              "      <td>10.0</td>\n",
              "      <td>0.0</td>\n",
              "      <td>1.0</td>\n",
              "      <td>0.0</td>\n",
              "      <td>0.0</td>\n",
              "      <td>0.0</td>\n",
              "      <td>0.0</td>\n",
              "      <td>0.0</td>\n",
              "      <td>0.0</td>\n",
              "      <td>...</td>\n",
              "      <td>0.0</td>\n",
              "      <td>1.0</td>\n",
              "      <td>0.0</td>\n",
              "      <td>0.0</td>\n",
              "      <td>0.0</td>\n",
              "      <td>0.0</td>\n",
              "      <td>0.0</td>\n",
              "      <td>1.0</td>\n",
              "      <td>0.0</td>\n",
              "      <td>1.0</td>\n",
              "    </tr>\n",
              "    <tr>\n",
              "      <th>75869</th>\n",
              "      <td>41.0</td>\n",
              "      <td>2.0</td>\n",
              "      <td>1.0</td>\n",
              "      <td>0.0</td>\n",
              "      <td>0.0</td>\n",
              "      <td>1.0</td>\n",
              "      <td>0.0</td>\n",
              "      <td>0.0</td>\n",
              "      <td>0.0</td>\n",
              "      <td>0.0</td>\n",
              "      <td>...</td>\n",
              "      <td>0.0</td>\n",
              "      <td>0.0</td>\n",
              "      <td>0.0</td>\n",
              "      <td>0.0</td>\n",
              "      <td>0.0</td>\n",
              "      <td>0.0</td>\n",
              "      <td>1.0</td>\n",
              "      <td>0.0</td>\n",
              "      <td>1.0</td>\n",
              "      <td>0.0</td>\n",
              "    </tr>\n",
              "    <tr>\n",
              "      <th>66321</th>\n",
              "      <td>27.0</td>\n",
              "      <td>6.0</td>\n",
              "      <td>1.0</td>\n",
              "      <td>0.0</td>\n",
              "      <td>0.0</td>\n",
              "      <td>0.0</td>\n",
              "      <td>0.0</td>\n",
              "      <td>0.0</td>\n",
              "      <td>0.0</td>\n",
              "      <td>0.0</td>\n",
              "      <td>...</td>\n",
              "      <td>0.0</td>\n",
              "      <td>0.0</td>\n",
              "      <td>0.0</td>\n",
              "      <td>0.0</td>\n",
              "      <td>0.0</td>\n",
              "      <td>0.0</td>\n",
              "      <td>0.0</td>\n",
              "      <td>0.0</td>\n",
              "      <td>1.0</td>\n",
              "      <td>1.0</td>\n",
              "    </tr>\n",
              "  </tbody>\n",
              "</table>\n",
              "<p>5 rows × 27 columns</p>\n",
              "</div>\n",
              "      <button class=\"colab-df-convert\" onclick=\"convertToInteractive('df-9e9d512d-180d-4ad4-9c79-747aaf0f3281')\"\n",
              "              title=\"Convert this dataframe to an interactive table.\"\n",
              "              style=\"display:none;\">\n",
              "        \n",
              "  <svg xmlns=\"http://www.w3.org/2000/svg\" height=\"24px\"viewBox=\"0 0 24 24\"\n",
              "       width=\"24px\">\n",
              "    <path d=\"M0 0h24v24H0V0z\" fill=\"none\"/>\n",
              "    <path d=\"M18.56 5.44l.94 2.06.94-2.06 2.06-.94-2.06-.94-.94-2.06-.94 2.06-2.06.94zm-11 1L8.5 8.5l.94-2.06 2.06-.94-2.06-.94L8.5 2.5l-.94 2.06-2.06.94zm10 10l.94 2.06.94-2.06 2.06-.94-2.06-.94-.94-2.06-.94 2.06-2.06.94z\"/><path d=\"M17.41 7.96l-1.37-1.37c-.4-.4-.92-.59-1.43-.59-.52 0-1.04.2-1.43.59L10.3 9.45l-7.72 7.72c-.78.78-.78 2.05 0 2.83L4 21.41c.39.39.9.59 1.41.59.51 0 1.02-.2 1.41-.59l7.78-7.78 2.81-2.81c.8-.78.8-2.07 0-2.86zM5.41 20L4 18.59l7.72-7.72 1.47 1.35L5.41 20z\"/>\n",
              "  </svg>\n",
              "      </button>\n",
              "      \n",
              "  <style>\n",
              "    .colab-df-container {\n",
              "      display:flex;\n",
              "      flex-wrap:wrap;\n",
              "      gap: 12px;\n",
              "    }\n",
              "\n",
              "    .colab-df-convert {\n",
              "      background-color: #E8F0FE;\n",
              "      border: none;\n",
              "      border-radius: 50%;\n",
              "      cursor: pointer;\n",
              "      display: none;\n",
              "      fill: #1967D2;\n",
              "      height: 32px;\n",
              "      padding: 0 0 0 0;\n",
              "      width: 32px;\n",
              "    }\n",
              "\n",
              "    .colab-df-convert:hover {\n",
              "      background-color: #E2EBFA;\n",
              "      box-shadow: 0px 1px 2px rgba(60, 64, 67, 0.3), 0px 1px 3px 1px rgba(60, 64, 67, 0.15);\n",
              "      fill: #174EA6;\n",
              "    }\n",
              "\n",
              "    [theme=dark] .colab-df-convert {\n",
              "      background-color: #3B4455;\n",
              "      fill: #D2E3FC;\n",
              "    }\n",
              "\n",
              "    [theme=dark] .colab-df-convert:hover {\n",
              "      background-color: #434B5C;\n",
              "      box-shadow: 0px 1px 3px 1px rgba(0, 0, 0, 0.15);\n",
              "      filter: drop-shadow(0px 1px 2px rgba(0, 0, 0, 0.3));\n",
              "      fill: #FFFFFF;\n",
              "    }\n",
              "  </style>\n",
              "\n",
              "      <script>\n",
              "        const buttonEl =\n",
              "          document.querySelector('#df-9e9d512d-180d-4ad4-9c79-747aaf0f3281 button.colab-df-convert');\n",
              "        buttonEl.style.display =\n",
              "          google.colab.kernel.accessAllowed ? 'block' : 'none';\n",
              "\n",
              "        async function convertToInteractive(key) {\n",
              "          const element = document.querySelector('#df-9e9d512d-180d-4ad4-9c79-747aaf0f3281');\n",
              "          const dataTable =\n",
              "            await google.colab.kernel.invokeFunction('convertToInteractive',\n",
              "                                                     [key], {});\n",
              "          if (!dataTable) return;\n",
              "\n",
              "          const docLinkHtml = 'Like what you see? Visit the ' +\n",
              "            '<a target=\"_blank\" href=https://colab.research.google.com/notebooks/data_table.ipynb>data table notebook</a>'\n",
              "            + ' to learn more about interactive tables.';\n",
              "          element.innerHTML = '';\n",
              "          dataTable['output_type'] = 'display_data';\n",
              "          await google.colab.output.renderOutput(dataTable, element);\n",
              "          const docLink = document.createElement('div');\n",
              "          docLink.innerHTML = docLinkHtml;\n",
              "          element.appendChild(docLink);\n",
              "        }\n",
              "      </script>\n",
              "    </div>\n",
              "  </div>\n",
              "  "
            ]
          },
          "metadata": {},
          "execution_count": 20
        }
      ]
    },
    {
      "cell_type": "code",
      "source": [
        "corr_sev = trainsetsev.corr()\n",
        "corr_sev['casualty_severity']"
      ],
      "metadata": {
        "colab": {
          "base_uri": "https://localhost:8080/"
        },
        "id": "GcxXcRAOzuHd",
        "outputId": "df6102f6-de6c-4f1b-c002-19411a05f633"
      },
      "execution_count": null,
      "outputs": [
        {
          "output_type": "execute_result",
          "data": {
            "text/plain": [
              "casualty_severity    1.000000\n",
              "casualty_class      -0.033010\n",
              "day_of_week          0.001285\n",
              "age_of_driver       -0.036385\n",
              "age_of_vehicle      -0.009925\n",
              "time_category       -0.035604\n",
              "Name: casualty_severity, dtype: float64"
            ]
          },
          "metadata": {},
          "execution_count": 69
        }
      ]
    },
    {
      "cell_type": "markdown",
      "source": [
        "### **Baseline model**\n"
      ],
      "metadata": {
        "id": "n3r7GdtRe1Cm"
      }
    },
    {
      "cell_type": "markdown",
      "source": [
        "We will use the mean values as the baseline model."
      ],
      "metadata": {
        "id": "Kh7e1kWke1Cm"
      }
    },
    {
      "cell_type": "code",
      "source": [
        "#building the naive model, the least sophisticated model\n",
        "#base value to compare the performance of less sophisticated values\n",
        "#the mean number of accidents that occured is used as the naive model\n",
        "mode_of_sev = y_trainsev.mode()\n",
        "base_model = mode_of_sev[0]\n",
        "base_model"
      ],
      "metadata": {
        "colab": {
          "base_uri": "https://localhost:8080/"
        },
        "outputId": "1ed432e1-2762-48b6-fb81-000e4287bcac",
        "id": "ziR-XOFhe1Cm"
      },
      "execution_count": null,
      "outputs": [
        {
          "output_type": "execute_result",
          "data": {
            "text/plain": [
              "3"
            ]
          },
          "metadata": {},
          "execution_count": 277
        }
      ]
    },
    {
      "cell_type": "code",
      "source": [
        "accuracy_score(y_trainsev, yhat)"
      ],
      "metadata": {
        "id": "ZGih0Aznp9Xy"
      },
      "execution_count": null,
      "outputs": []
    },
    {
      "cell_type": "code",
      "source": [
        "# the number of instances belonging to each class\n",
        "y_trainsev.value_counts()"
      ],
      "metadata": {
        "colab": {
          "base_uri": "https://localhost:8080/"
        },
        "id": "uc-n9J2qtpwb",
        "outputId": "610fbcd3-fd67-400d-d5fc-b162121916f2"
      },
      "execution_count": null,
      "outputs": [
        {
          "output_type": "execute_result",
          "data": {
            "text/plain": [
              "3    115465\n",
              "2     23559\n",
              "1      1824\n",
              "Name: casualty_severity, dtype: int64"
            ]
          },
          "metadata": {},
          "execution_count": 317
        }
      ]
    },
    {
      "cell_type": "code",
      "source": [
        "# total size of the training set\n",
        "y_trainsev.shape[0]"
      ],
      "metadata": {
        "colab": {
          "base_uri": "https://localhost:8080/"
        },
        "id": "fk0fcegTuAkl",
        "outputId": "b4fb0089-04a4-4eb8-9289-c9178b111f1e"
      },
      "execution_count": null,
      "outputs": [
        {
          "output_type": "execute_result",
          "data": {
            "text/plain": [
              "140848"
            ]
          },
          "metadata": {},
          "execution_count": 318
        }
      ]
    },
    {
      "cell_type": "code",
      "source": [
        "#the accuracy value of the baseline model is calculated\n",
        "#this is done to know the performance of the model\n",
        "\n",
        "# each row of yhat will contain the mean of the distribution\n",
        "yhat = np.full((y_trainsev.shape[0], 1), base_model) \n",
        "accuracy_score(y_trainsev, yhat)\n",
        " "
      ],
      "metadata": {
        "colab": {
          "base_uri": "https://localhost:8080/"
        },
        "outputId": "0785a645-8151-4d62-d72a-2322bce16dff",
        "id": "awHqeWaNe1Cn"
      },
      "execution_count": null,
      "outputs": [
        {
          "output_type": "execute_result",
          "data": {
            "text/plain": [
              "0.8197844484834715"
            ]
          },
          "metadata": {},
          "execution_count": 321
        }
      ]
    },
    {
      "cell_type": "markdown",
      "source": [
        "The accuracy of the model is 81.9%. This means that the model is right over 80% of the dataset"
      ],
      "metadata": {
        "id": "xau-55SDIQeN"
      }
    },
    {
      "cell_type": "code",
      "source": [
        "precision_base = precision_score(y_trainsev, yhat, average = 'macro')\n",
        "\n",
        "recall_base = recall_score(y_trainsev, yhat, average = 'macro')\n",
        "\n",
        "\n",
        "f_base = f1_score(y_trainsev, yhat, average = 'macro')\n",
        "f_base"
      ],
      "metadata": {
        "colab": {
          "base_uri": "https://localhost:8080/"
        },
        "id": "DtPPgD3fv0q0",
        "outputId": "addfe287-b1e6-49a5-e75e-dd2d1eb600eb"
      },
      "execution_count": null,
      "outputs": [
        {
          "output_type": "execute_result",
          "data": {
            "text/plain": [
              "0.3003229124807039"
            ]
          },
          "metadata": {},
          "execution_count": 324
        }
      ]
    },
    {
      "cell_type": "markdown",
      "source": [
        "The fscore is 0.30, the low but this value will be used only as a refernce."
      ],
      "metadata": {
        "id": "Kt-icXkyIjZb"
      }
    },
    {
      "cell_type": "markdown",
      "source": [
        "Macro averaging was used to calculate the fscore value used in this report."
      ],
      "metadata": {
        "id": "hUgBIJIFw_j-"
      }
    },
    {
      "cell_type": "markdown",
      "source": [
        "### **Model Training**"
      ],
      "metadata": {
        "id": "6FSR2wXWe1Cn"
      }
    },
    {
      "cell_type": "markdown",
      "source": [
        "### **Random Forest**"
      ],
      "metadata": {
        "id": "OnwMfrsnxUQ1"
      }
    },
    {
      "cell_type": "code",
      "source": [
        "#instatiating the randomforest object\n",
        "rf = RandomForestClassifier(random_state=7)\n",
        "\n",
        "#hyperparameters and their values were specified\n",
        "param_grid = {\n",
        "    'n_estimators': [2, 5, 10],\n",
        "    'max_depth': [50,80,100]\n",
        "}\n",
        "\n",
        "# we'll use 7-fold cross-validation\n",
        "grid_search = RandomizedSearchCV(rf, param_grid, cv=7,\n",
        "                           scoring='f1_macro', \n",
        "                           return_train_score=True) \n",
        "\n",
        "start = time.time()\n",
        "grid_search.fit(x_trainsev, y_trainsev)\n",
        "end = time.time() - start\n",
        "print(f\"Took {end} seconds\")"
      ],
      "metadata": {
        "colab": {
          "base_uri": "https://localhost:8080/"
        },
        "id": "-6xvwybZxkRF",
        "outputId": "3fc3d0fc-b10d-4fb1-bc78-4a63f9880751"
      },
      "execution_count": null,
      "outputs": [
        {
          "output_type": "stream",
          "name": "stdout",
          "text": [
            "Took 81.01856756210327 seconds\n"
          ]
        }
      ]
    },
    {
      "cell_type": "code",
      "source": [
        "bestrand = grid_search.best_estimator_"
      ],
      "metadata": {
        "id": "i6Yw-1_g4eMu"
      },
      "execution_count": null,
      "outputs": []
    },
    {
      "cell_type": "code",
      "source": [
        "grid_search.best_score_"
      ],
      "metadata": {
        "colab": {
          "base_uri": "https://localhost:8080/"
        },
        "id": "4kiS0Tdc5D-i",
        "outputId": "2a415ca0-3760-4bb7-92b5-663459b84e89"
      },
      "execution_count": null,
      "outputs": [
        {
          "output_type": "execute_result",
          "data": {
            "text/plain": [
              "0.3740355395355311"
            ]
          },
          "metadata": {},
          "execution_count": 60
        }
      ]
    },
    {
      "cell_type": "markdown",
      "source": [
        "The best hyperparameters  are n_estimators=5, max_depth=50. They achieve the F-score of 0.37, the best so far."
      ],
      "metadata": {
        "id": "UnzSVXhm5Zwe"
      }
    },
    {
      "cell_type": "markdown",
      "source": [
        "The best F-scores achieved by the best model in each fold and it is seen in the table below."
      ],
      "metadata": {
        "id": "yv3BiTgLEI1z"
      }
    },
    {
      "cell_type": "code",
      "source": [
        "best_model_index = grid_search.cv_results_[\"rank_test_score\"].tolist().index(1)\n",
        "best_model_index"
      ],
      "metadata": {
        "colab": {
          "base_uri": "https://localhost:8080/"
        },
        "id": "fVcNFveLGDdk",
        "outputId": "1fa798a3-cd02-4e31-db28-86de26a2ce7d"
      },
      "execution_count": null,
      "outputs": [
        {
          "output_type": "execute_result",
          "data": {
            "text/plain": [
              "1"
            ]
          },
          "metadata": {},
          "execution_count": 353
        }
      ]
    },
    {
      "cell_type": "code",
      "source": [
        "rf_split_test_scores = []\n",
        "for x in range(5):\n",
        "    # extract f-score of the best model (index='best_model_index') from each of the 5 splits\n",
        "    val = grid_search.cv_results_[f\"split{x}_test_score\"][best_model_index]\n",
        "    rf_split_test_scores.append(val)"
      ],
      "metadata": {
        "id": "DRLwPIg5EKjz"
      },
      "execution_count": null,
      "outputs": []
    },
    {
      "cell_type": "code",
      "source": [
        "cv_results = pd.DataFrame(grid_search.cv_results_)[['params', 'mean_train_score', 'mean_test_score']]\n",
        "cv_results[\"diff, %\"] = 100*(cv_results[\"mean_train_score\"]-cv_results[\"mean_test_score\"]\n",
        "                                                     )/cv_results[\"mean_train_score\"]\n",
        "\n",
        "pd.set_option('display.max_colwidth', 100)\n",
        "cv_results.sort_values('mean_test_score', ascending=False)"
      ],
      "metadata": {
        "colab": {
          "base_uri": "https://localhost:8080/",
          "height": 332
        },
        "id": "nhxMreTxEOab",
        "outputId": "e665df5f-d980-4e6c-fffb-65117fb534e6"
      },
      "execution_count": null,
      "outputs": [
        {
          "output_type": "execute_result",
          "data": {
            "text/plain": [
              "                                   params  mean_train_score  mean_test_score  \\\n",
              "1    {'n_estimators': 5, 'max_depth': 50}          0.736438         0.374036   \n",
              "4    {'n_estimators': 5, 'max_depth': 80}          0.736438         0.374036   \n",
              "7   {'n_estimators': 5, 'max_depth': 100}          0.736438         0.374036   \n",
              "2   {'n_estimators': 10, 'max_depth': 50}          0.761487         0.373485   \n",
              "5   {'n_estimators': 10, 'max_depth': 80}          0.761487         0.373485   \n",
              "8  {'n_estimators': 10, 'max_depth': 100}          0.761487         0.373485   \n",
              "0    {'n_estimators': 2, 'max_depth': 50}          0.689582         0.369900   \n",
              "3    {'n_estimators': 2, 'max_depth': 80}          0.689582         0.369900   \n",
              "6   {'n_estimators': 2, 'max_depth': 100}          0.689582         0.369900   \n",
              "\n",
              "     diff, %  \n",
              "1  49.210173  \n",
              "4  49.210173  \n",
              "7  49.210173  \n",
              "2  50.953267  \n",
              "5  50.953267  \n",
              "8  50.953267  \n",
              "0  46.358833  \n",
              "3  46.358833  \n",
              "6  46.358833  "
            ],
            "text/html": [
              "\n",
              "  <div id=\"df-031471c2-5fa9-447a-b097-a0d93e7ded52\">\n",
              "    <div class=\"colab-df-container\">\n",
              "      <div>\n",
              "<style scoped>\n",
              "    .dataframe tbody tr th:only-of-type {\n",
              "        vertical-align: middle;\n",
              "    }\n",
              "\n",
              "    .dataframe tbody tr th {\n",
              "        vertical-align: top;\n",
              "    }\n",
              "\n",
              "    .dataframe thead th {\n",
              "        text-align: right;\n",
              "    }\n",
              "</style>\n",
              "<table border=\"1\" class=\"dataframe\">\n",
              "  <thead>\n",
              "    <tr style=\"text-align: right;\">\n",
              "      <th></th>\n",
              "      <th>params</th>\n",
              "      <th>mean_train_score</th>\n",
              "      <th>mean_test_score</th>\n",
              "      <th>diff, %</th>\n",
              "    </tr>\n",
              "  </thead>\n",
              "  <tbody>\n",
              "    <tr>\n",
              "      <th>1</th>\n",
              "      <td>{'n_estimators': 5, 'max_depth': 50}</td>\n",
              "      <td>0.736438</td>\n",
              "      <td>0.374036</td>\n",
              "      <td>49.210173</td>\n",
              "    </tr>\n",
              "    <tr>\n",
              "      <th>4</th>\n",
              "      <td>{'n_estimators': 5, 'max_depth': 80}</td>\n",
              "      <td>0.736438</td>\n",
              "      <td>0.374036</td>\n",
              "      <td>49.210173</td>\n",
              "    </tr>\n",
              "    <tr>\n",
              "      <th>7</th>\n",
              "      <td>{'n_estimators': 5, 'max_depth': 100}</td>\n",
              "      <td>0.736438</td>\n",
              "      <td>0.374036</td>\n",
              "      <td>49.210173</td>\n",
              "    </tr>\n",
              "    <tr>\n",
              "      <th>2</th>\n",
              "      <td>{'n_estimators': 10, 'max_depth': 50}</td>\n",
              "      <td>0.761487</td>\n",
              "      <td>0.373485</td>\n",
              "      <td>50.953267</td>\n",
              "    </tr>\n",
              "    <tr>\n",
              "      <th>5</th>\n",
              "      <td>{'n_estimators': 10, 'max_depth': 80}</td>\n",
              "      <td>0.761487</td>\n",
              "      <td>0.373485</td>\n",
              "      <td>50.953267</td>\n",
              "    </tr>\n",
              "    <tr>\n",
              "      <th>8</th>\n",
              "      <td>{'n_estimators': 10, 'max_depth': 100}</td>\n",
              "      <td>0.761487</td>\n",
              "      <td>0.373485</td>\n",
              "      <td>50.953267</td>\n",
              "    </tr>\n",
              "    <tr>\n",
              "      <th>0</th>\n",
              "      <td>{'n_estimators': 2, 'max_depth': 50}</td>\n",
              "      <td>0.689582</td>\n",
              "      <td>0.369900</td>\n",
              "      <td>46.358833</td>\n",
              "    </tr>\n",
              "    <tr>\n",
              "      <th>3</th>\n",
              "      <td>{'n_estimators': 2, 'max_depth': 80}</td>\n",
              "      <td>0.689582</td>\n",
              "      <td>0.369900</td>\n",
              "      <td>46.358833</td>\n",
              "    </tr>\n",
              "    <tr>\n",
              "      <th>6</th>\n",
              "      <td>{'n_estimators': 2, 'max_depth': 100}</td>\n",
              "      <td>0.689582</td>\n",
              "      <td>0.369900</td>\n",
              "      <td>46.358833</td>\n",
              "    </tr>\n",
              "  </tbody>\n",
              "</table>\n",
              "</div>\n",
              "      <button class=\"colab-df-convert\" onclick=\"convertToInteractive('df-031471c2-5fa9-447a-b097-a0d93e7ded52')\"\n",
              "              title=\"Convert this dataframe to an interactive table.\"\n",
              "              style=\"display:none;\">\n",
              "        \n",
              "  <svg xmlns=\"http://www.w3.org/2000/svg\" height=\"24px\"viewBox=\"0 0 24 24\"\n",
              "       width=\"24px\">\n",
              "    <path d=\"M0 0h24v24H0V0z\" fill=\"none\"/>\n",
              "    <path d=\"M18.56 5.44l.94 2.06.94-2.06 2.06-.94-2.06-.94-.94-2.06-.94 2.06-2.06.94zm-11 1L8.5 8.5l.94-2.06 2.06-.94-2.06-.94L8.5 2.5l-.94 2.06-2.06.94zm10 10l.94 2.06.94-2.06 2.06-.94-2.06-.94-.94-2.06-.94 2.06-2.06.94z\"/><path d=\"M17.41 7.96l-1.37-1.37c-.4-.4-.92-.59-1.43-.59-.52 0-1.04.2-1.43.59L10.3 9.45l-7.72 7.72c-.78.78-.78 2.05 0 2.83L4 21.41c.39.39.9.59 1.41.59.51 0 1.02-.2 1.41-.59l7.78-7.78 2.81-2.81c.8-.78.8-2.07 0-2.86zM5.41 20L4 18.59l7.72-7.72 1.47 1.35L5.41 20z\"/>\n",
              "  </svg>\n",
              "      </button>\n",
              "      \n",
              "  <style>\n",
              "    .colab-df-container {\n",
              "      display:flex;\n",
              "      flex-wrap:wrap;\n",
              "      gap: 12px;\n",
              "    }\n",
              "\n",
              "    .colab-df-convert {\n",
              "      background-color: #E8F0FE;\n",
              "      border: none;\n",
              "      border-radius: 50%;\n",
              "      cursor: pointer;\n",
              "      display: none;\n",
              "      fill: #1967D2;\n",
              "      height: 32px;\n",
              "      padding: 0 0 0 0;\n",
              "      width: 32px;\n",
              "    }\n",
              "\n",
              "    .colab-df-convert:hover {\n",
              "      background-color: #E2EBFA;\n",
              "      box-shadow: 0px 1px 2px rgba(60, 64, 67, 0.3), 0px 1px 3px 1px rgba(60, 64, 67, 0.15);\n",
              "      fill: #174EA6;\n",
              "    }\n",
              "\n",
              "    [theme=dark] .colab-df-convert {\n",
              "      background-color: #3B4455;\n",
              "      fill: #D2E3FC;\n",
              "    }\n",
              "\n",
              "    [theme=dark] .colab-df-convert:hover {\n",
              "      background-color: #434B5C;\n",
              "      box-shadow: 0px 1px 3px 1px rgba(0, 0, 0, 0.15);\n",
              "      filter: drop-shadow(0px 1px 2px rgba(0, 0, 0, 0.3));\n",
              "      fill: #FFFFFF;\n",
              "    }\n",
              "  </style>\n",
              "\n",
              "      <script>\n",
              "        const buttonEl =\n",
              "          document.querySelector('#df-031471c2-5fa9-447a-b097-a0d93e7ded52 button.colab-df-convert');\n",
              "        buttonEl.style.display =\n",
              "          google.colab.kernel.accessAllowed ? 'block' : 'none';\n",
              "\n",
              "        async function convertToInteractive(key) {\n",
              "          const element = document.querySelector('#df-031471c2-5fa9-447a-b097-a0d93e7ded52');\n",
              "          const dataTable =\n",
              "            await google.colab.kernel.invokeFunction('convertToInteractive',\n",
              "                                                     [key], {});\n",
              "          if (!dataTable) return;\n",
              "\n",
              "          const docLinkHtml = 'Like what you see? Visit the ' +\n",
              "            '<a target=\"_blank\" href=https://colab.research.google.com/notebooks/data_table.ipynb>data table notebook</a>'\n",
              "            + ' to learn more about interactive tables.';\n",
              "          element.innerHTML = '';\n",
              "          dataTable['output_type'] = 'display_data';\n",
              "          await google.colab.output.renderOutput(dataTable, element);\n",
              "          const docLink = document.createElement('div');\n",
              "          docLink.innerHTML = docLinkHtml;\n",
              "          element.appendChild(docLink);\n",
              "        }\n",
              "      </script>\n",
              "    </div>\n",
              "  </div>\n",
              "  "
            ]
          },
          "metadata": {},
          "execution_count": 355
        }
      ]
    },
    {
      "cell_type": "markdown",
      "source": [
        "The higher the number of estimators, we notice the largest overfitting. The performance on the trainset is greater than that of the testset, this suggest the model needs lots of improvements by tuning other hyper parameter tuning of  the Random Forest Method "
      ],
      "metadata": {
        "id": "_HKGZLj0FHGU"
      }
    },
    {
      "cell_type": "code",
      "source": [
        "yhat = bestrand.predict(x_trainsev)\n",
        "accuracy_score(y_trainsev, yhat)"
      ],
      "metadata": {
        "colab": {
          "base_uri": "https://localhost:8080/"
        },
        "id": "584ejVmNG39T",
        "outputId": "2934c2f4-5729-48b4-d2bc-651c3bdb9a57"
      },
      "execution_count": null,
      "outputs": [
        {
          "output_type": "execute_result",
          "data": {
            "text/plain": [
              "0.8924727365670794"
            ]
          },
          "metadata": {},
          "execution_count": 359
        }
      ]
    },
    {
      "cell_type": "markdown",
      "source": [
        "The accuracy of the model is 89.24%. This means that the model is right almost 90% of the data set"
      ],
      "metadata": {
        "id": "yP84SN-5I5P0"
      }
    },
    {
      "cell_type": "code",
      "source": [
        "precision_base = precision_score(y_trainsev, yhat, average = 'macro')\n",
        "\n",
        "recall_base = recall_score(y_trainsev, yhat, average = 'macro')\n",
        "\n",
        "\n",
        "f_base = f1_score(y_trainsev, yhat, average = 'macro')\n",
        "f_base"
      ],
      "metadata": {
        "colab": {
          "base_uri": "https://localhost:8080/"
        },
        "id": "bf4YJkKiIBZE",
        "outputId": "cc5d6eda-0359-44a8-f5e3-930f716abe84"
      },
      "execution_count": null,
      "outputs": [
        {
          "output_type": "execute_result",
          "data": {
            "text/plain": [
              "0.7250559921318039"
            ]
          },
          "metadata": {},
          "execution_count": 360
        }
      ]
    },
    {
      "cell_type": "markdown",
      "source": [
        "The f_score of the random forest algorithm is much more higher than the base model, the predicted values here will be more reliable than the base model."
      ],
      "metadata": {
        "id": "E5yzvN-TI6m1"
      }
    },
    {
      "cell_type": "code",
      "source": [
        "ConfusionMatrixDisplay.from_predictions(y_trainsev, yhat, \n",
        "                                        labels=bestrand.classes_, \n",
        "                                        xticks_rotation=\"vertical\", \n",
        "                                        normalize=\"true\",\n",
        "                                        cmap=plt.cm.Greens)"
      ],
      "metadata": {
        "colab": {
          "base_uri": "https://localhost:8080/",
          "height": 461
        },
        "id": "aD5eMAApKc0V",
        "outputId": "fa0fbcdc-7f9a-4bec-e55f-640aee025ce4"
      },
      "execution_count": null,
      "outputs": [
        {
          "output_type": "execute_result",
          "data": {
            "text/plain": [
              "<sklearn.metrics._plot.confusion_matrix.ConfusionMatrixDisplay at 0x7f12a609de90>"
            ]
          },
          "metadata": {},
          "execution_count": 365
        },
        {
          "output_type": "display_data",
          "data": {
            "text/plain": [
              "<Figure size 640x480 with 2 Axes>"
            ],
            "image/png": "[encoded data removed]"
          },
          "metadata": {}
        }
      ]
    },
    {
      "cell_type": "markdown",
      "source": [
        "From t he heatmap above, we can see the model predicts best for slight accident(97%) than it does for serious or fatal accident. This will be an issue when trying to predict the serious or fatal accident. "
      ],
      "metadata": {
        "id": "bwrGkc_WLG5W"
      }
    },
    {
      "cell_type": "code",
      "source": [
        "feature_importances = grid_search.best_estimator_.feature_importances_\n",
        "\n",
        "# the order of the features in `feature_importances` is the same as in the Xtrain dataframe,\n",
        "# so we can \"zip\" the two and print in the descending order:\n",
        "\n",
        "for k, v in sorted(zip(feature_importances, x_trainsev.columns), reverse=True):\n",
        "    print(f\"{v}: {k:.3f}\")"
      ],
      "metadata": {
        "colab": {
          "base_uri": "https://localhost:8080/"
        },
        "id": "Ela8ou_sNL5W",
        "outputId": "997786d0-b6d9-4cdc-91ac-1fc12c47318d"
      },
      "execution_count": null,
      "outputs": [
        {
          "output_type": "stream",
          "name": "stdout",
          "text": [
            "age_of_driver: 0.502\n",
            "age_of_vehicle: 0.289\n",
            "6: 0.020\n",
            "2: 0.019\n",
            "wet: 0.018\n",
            "7: 0.017\n",
            "5: 0.017\n",
            "3: 0.014\n",
            "rainy: 0.011\n",
            "single_carriageway: 0.011\n",
            "urban: 0.010\n",
            "no_high_wind: 0.010\n",
            "male: 0.009\n",
            "no_crossing_facilities: 0.006\n",
            "roundabout: 0.006\n",
            "4: 0.006\n",
            "other: 0.005\n",
            "non_junction_crossing: 0.005\n",
            "frost: 0.004\n",
            "slip_road: 0.003\n",
            "zebra: 0.003\n",
            "fog: 0.003\n",
            "pedestrian_phase: 0.003\n",
            "one_way_street: 0.003\n",
            "snow: 0.002\n",
            "footbridge: 0.001\n",
            "flood: 0.001\n"
          ]
        }
      ]
    },
    {
      "cell_type": "markdown",
      "source": [
        "We can notice that the age of driver and age of the vehicle are by far the most useful variable for determining the number of accidents that occur in the day. Other useful features are if it is a friday, if it is a monday, if the ground is wet.\n",
        "\n",
        "There are some features that are much less useful: the presence of pedestrian phase, if it is a one way street, if it is a footbridge, if it is snowy and if there is flood. We will remove these columns if we were to predict the number of accidents that occur per day but that is not the case here."
      ],
      "metadata": {
        "id": "cQp48TEMPEkW"
      }
    },
    {
      "cell_type": "markdown",
      "source": [
        "### **Support Vector Machines**"
      ],
      "metadata": {
        "id": "4Ojd6aiRe1Cq"
      }
    },
    {
      "cell_type": "markdown",
      "source": [
        "We will be using a support vector machine to create a model for evaluation."
      ],
      "metadata": {
        "id": "DHzrbPD6e1Cq"
      }
    },
    {
      "cell_type": "code",
      "source": [
        "lsvm = LinearSVC(random_state=7, max_iter=2000)\n",
        "\n",
        "# specify the hyperparameters and their values\n",
        "# 5 combinations in the grid\n",
        "param_grid = {\n",
        "    'C': [0.001, 0.01, 0.1, 1, 10],\n",
        "}\n",
        "\n",
        "# we'll use 5-fold cross-validation\n",
        "grid_search = RandomizedSearchCV(lsvm, param_grid, cv=5, \n",
        "                                 scoring='f1_macro', \n",
        "                                 return_train_score=True) \n",
        "\n",
        "start = time.time()\n",
        "grid_search.fit(x_trainsev, y_trainsev)\n",
        "end = time.time() - start\n",
        "print(f\"Took {end} seconds\")"
      ],
      "metadata": {
        "colab": {
          "base_uri": "https://localhost:8080/"
        },
        "outputId": "7b548431-10a1-43a6-cac6-431d0518ddbd",
        "id": "kauKrkkre1Cq"
      },
      "execution_count": null,
      "outputs": [
        {
          "output_type": "stream",
          "name": "stdout",
          "text": [
            "Took 3440.5928745269775 seconds\n"
          ]
        }
      ]
    },
    {
      "cell_type": "markdown",
      "source": [
        ""
      ],
      "metadata": {
        "id": "VimS4MDsmOIb"
      }
    },
    {
      "cell_type": "code",
      "source": [
        "bestsvm = grid_search.best_estimator_\n",
        "bestsvm"
      ],
      "metadata": {
        "colab": {
          "base_uri": "https://localhost:8080/"
        },
        "id": "mcMaMkVjVtrC",
        "outputId": "f16e5dee-148c-42f1-b060-c10f5487c1f8"
      },
      "execution_count": null,
      "outputs": [
        {
          "output_type": "execute_result",
          "data": {
            "text/plain": [
              "LinearSVC(C=0.001, max_iter=2000, random_state=7)"
            ]
          },
          "metadata": {},
          "execution_count": 35
        }
      ]
    },
    {
      "cell_type": "code",
      "source": [
        "grid_search.best_score_"
      ],
      "metadata": {
        "colab": {
          "base_uri": "https://localhost:8080/"
        },
        "id": "EHkWHgBcVzto",
        "outputId": "e166c129-28c7-4c2b-f524-1408dbc61cb9"
      },
      "execution_count": null,
      "outputs": [
        {
          "output_type": "execute_result",
          "data": {
            "text/plain": [
              "0.30032291250813226"
            ]
          },
          "metadata": {},
          "execution_count": 29
        }
      ]
    },
    {
      "cell_type": "code",
      "source": [
        "cv_results = pd.DataFrame(grid_search.cv_results_)[['params', 'mean_train_score', 'mean_test_score']]\n",
        "cv_results[\"diff, %\"] = 100*(cv_results[\"mean_train_score\"]-cv_results[\"mean_test_score\"]\n",
        "                                                     )/cv_results[\"mean_train_score\"]\n",
        "\n",
        "pd.set_option('display.max_colwidth', 100)\n",
        "cv_results.sort_values('mean_test_score', ascending=False)"
      ],
      "metadata": {
        "colab": {
          "base_uri": "https://localhost:8080/",
          "height": 206
        },
        "id": "CD9Qt3T0V5Aa",
        "outputId": "aa0d3bee-4b7c-47b5-950c-705e2a893bd4"
      },
      "execution_count": null,
      "outputs": [
        {
          "output_type": "execute_result",
          "data": {
            "text/plain": [
              "         params  mean_train_score  mean_test_score       diff, %\n",
              "0  {'C': 0.001}          0.300323         0.300323 -8.562131e-09\n",
              "1   {'C': 0.01}          0.300323         0.300323 -8.562131e-09\n",
              "2    {'C': 0.1}          0.300323         0.300323 -8.562131e-09\n",
              "3      {'C': 1}          0.300322         0.300323 -1.404312e-04\n",
              "4     {'C': 10}          0.262573         0.262255  1.212107e-01"
            ],
            "text/html": [
              "\n",
              "  <div id=\"df-f1a3f146-7a28-4051-8cc2-6030f9147986\">\n",
              "    <div class=\"colab-df-container\">\n",
              "      <div>\n",
              "<style scoped>\n",
              "    .dataframe tbody tr th:only-of-type {\n",
              "        vertical-align: middle;\n",
              "    }\n",
              "\n",
              "    .dataframe tbody tr th {\n",
              "        vertical-align: top;\n",
              "    }\n",
              "\n",
              "    .dataframe thead th {\n",
              "        text-align: right;\n",
              "    }\n",
              "</style>\n",
              "<table border=\"1\" class=\"dataframe\">\n",
              "  <thead>\n",
              "    <tr style=\"text-align: right;\">\n",
              "      <th></th>\n",
              "      <th>params</th>\n",
              "      <th>mean_train_score</th>\n",
              "      <th>mean_test_score</th>\n",
              "      <th>diff, %</th>\n",
              "    </tr>\n",
              "  </thead>\n",
              "  <tbody>\n",
              "    <tr>\n",
              "      <th>0</th>\n",
              "      <td>{'C': 0.001}</td>\n",
              "      <td>0.300323</td>\n",
              "      <td>0.300323</td>\n",
              "      <td>-8.562131e-09</td>\n",
              "    </tr>\n",
              "    <tr>\n",
              "      <th>1</th>\n",
              "      <td>{'C': 0.01}</td>\n",
              "      <td>0.300323</td>\n",
              "      <td>0.300323</td>\n",
              "      <td>-8.562131e-09</td>\n",
              "    </tr>\n",
              "    <tr>\n",
              "      <th>2</th>\n",
              "      <td>{'C': 0.1}</td>\n",
              "      <td>0.300323</td>\n",
              "      <td>0.300323</td>\n",
              "      <td>-8.562131e-09</td>\n",
              "    </tr>\n",
              "    <tr>\n",
              "      <th>3</th>\n",
              "      <td>{'C': 1}</td>\n",
              "      <td>0.300322</td>\n",
              "      <td>0.300323</td>\n",
              "      <td>-1.404312e-04</td>\n",
              "    </tr>\n",
              "    <tr>\n",
              "      <th>4</th>\n",
              "      <td>{'C': 10}</td>\n",
              "      <td>0.262573</td>\n",
              "      <td>0.262255</td>\n",
              "      <td>1.212107e-01</td>\n",
              "    </tr>\n",
              "  </tbody>\n",
              "</table>\n",
              "</div>\n",
              "      <button class=\"colab-df-convert\" onclick=\"convertToInteractive('df-f1a3f146-7a28-4051-8cc2-6030f9147986')\"\n",
              "              title=\"Convert this dataframe to an interactive table.\"\n",
              "              style=\"display:none;\">\n",
              "        \n",
              "  <svg xmlns=\"http://www.w3.org/2000/svg\" height=\"24px\"viewBox=\"0 0 24 24\"\n",
              "       width=\"24px\">\n",
              "    <path d=\"M0 0h24v24H0V0z\" fill=\"none\"/>\n",
              "    <path d=\"M18.56 5.44l.94 2.06.94-2.06 2.06-.94-2.06-.94-.94-2.06-.94 2.06-2.06.94zm-11 1L8.5 8.5l.94-2.06 2.06-.94-2.06-.94L8.5 2.5l-.94 2.06-2.06.94zm10 10l.94 2.06.94-2.06 2.06-.94-2.06-.94-.94-2.06-.94 2.06-2.06.94z\"/><path d=\"M17.41 7.96l-1.37-1.37c-.4-.4-.92-.59-1.43-.59-.52 0-1.04.2-1.43.59L10.3 9.45l-7.72 7.72c-.78.78-.78 2.05 0 2.83L4 21.41c.39.39.9.59 1.41.59.51 0 1.02-.2 1.41-.59l7.78-7.78 2.81-2.81c.8-.78.8-2.07 0-2.86zM5.41 20L4 18.59l7.72-7.72 1.47 1.35L5.41 20z\"/>\n",
              "  </svg>\n",
              "      </button>\n",
              "      \n",
              "  <style>\n",
              "    .colab-df-container {\n",
              "      display:flex;\n",
              "      flex-wrap:wrap;\n",
              "      gap: 12px;\n",
              "    }\n",
              "\n",
              "    .colab-df-convert {\n",
              "      background-color: #E8F0FE;\n",
              "      border: none;\n",
              "      border-radius: 50%;\n",
              "      cursor: pointer;\n",
              "      display: none;\n",
              "      fill: #1967D2;\n",
              "      height: 32px;\n",
              "      padding: 0 0 0 0;\n",
              "      width: 32px;\n",
              "    }\n",
              "\n",
              "    .colab-df-convert:hover {\n",
              "      background-color: #E2EBFA;\n",
              "      box-shadow: 0px 1px 2px rgba(60, 64, 67, 0.3), 0px 1px 3px 1px rgba(60, 64, 67, 0.15);\n",
              "      fill: #174EA6;\n",
              "    }\n",
              "\n",
              "    [theme=dark] .colab-df-convert {\n",
              "      background-color: #3B4455;\n",
              "      fill: #D2E3FC;\n",
              "    }\n",
              "\n",
              "    [theme=dark] .colab-df-convert:hover {\n",
              "      background-color: #434B5C;\n",
              "      box-shadow: 0px 1px 3px 1px rgba(0, 0, 0, 0.15);\n",
              "      filter: drop-shadow(0px 1px 2px rgba(0, 0, 0, 0.3));\n",
              "      fill: #FFFFFF;\n",
              "    }\n",
              "  </style>\n",
              "\n",
              "      <script>\n",
              "        const buttonEl =\n",
              "          document.querySelector('#df-f1a3f146-7a28-4051-8cc2-6030f9147986 button.colab-df-convert');\n",
              "        buttonEl.style.display =\n",
              "          google.colab.kernel.accessAllowed ? 'block' : 'none';\n",
              "\n",
              "        async function convertToInteractive(key) {\n",
              "          const element = document.querySelector('#df-f1a3f146-7a28-4051-8cc2-6030f9147986');\n",
              "          const dataTable =\n",
              "            await google.colab.kernel.invokeFunction('convertToInteractive',\n",
              "                                                     [key], {});\n",
              "          if (!dataTable) return;\n",
              "\n",
              "          const docLinkHtml = 'Like what you see? Visit the ' +\n",
              "            '<a target=\"_blank\" href=https://colab.research.google.com/notebooks/data_table.ipynb>data table notebook</a>'\n",
              "            + ' to learn more about interactive tables.';\n",
              "          element.innerHTML = '';\n",
              "          dataTable['output_type'] = 'display_data';\n",
              "          await google.colab.output.renderOutput(dataTable, element);\n",
              "          const docLink = document.createElement('div');\n",
              "          docLink.innerHTML = docLinkHtml;\n",
              "          element.appendChild(docLink);\n",
              "        }\n",
              "      </script>\n",
              "    </div>\n",
              "  </div>\n",
              "  "
            ]
          },
          "metadata": {},
          "execution_count": 30
        }
      ]
    },
    {
      "cell_type": "markdown",
      "source": [
        "Further tuning the c hyper-parameter tuning did not improvethe quality of the model. So we have to stop as this takes a long time to execute"
      ],
      "metadata": {
        "id": "T46u7wNereVi"
      }
    },
    {
      "cell_type": "code",
      "source": [
        "yhat = bestsvm.predict(x_trainsev)\n",
        "accuracy_score(y_trainsev, yhat)"
      ],
      "metadata": {
        "colab": {
          "base_uri": "https://localhost:8080/"
        },
        "id": "QM7ad8ZOagRM",
        "outputId": "d4d6a689-8689-4ec2-b8d1-d1d9d65fc848"
      },
      "execution_count": null,
      "outputs": [
        {
          "output_type": "execute_result",
          "data": {
            "text/plain": [
              "0.8197844484834715"
            ]
          },
          "metadata": {},
          "execution_count": 31
        }
      ]
    },
    {
      "cell_type": "markdown",
      "source": [
        "The accuracy of the model is 81.97%. This means that the model is correct for more than 80% of the data set"
      ],
      "metadata": {
        "id": "zRNdDB4oamZm"
      }
    },
    {
      "cell_type": "code",
      "source": [
        "precision_base = precision_score(y_trainsev, yhat, average = 'macro')\n",
        "\n",
        "recall_base = recall_score(y_trainsev, yhat, average = 'macro')\n",
        "\n",
        "\n",
        "f_base = f1_score(y_trainsev, yhat, average = 'macro')\n",
        "f_base"
      ],
      "metadata": {
        "colab": {
          "base_uri": "https://localhost:8080/"
        },
        "id": "yjAz9uXqamkl",
        "outputId": "cb218979-6e01-46cb-c491-901f312b72fe"
      },
      "execution_count": null,
      "outputs": [
        {
          "output_type": "execute_result",
          "data": {
            "text/plain": [
              "0.3003229124807039"
            ]
          },
          "metadata": {},
          "execution_count": 32
        }
      ]
    },
    {
      "cell_type": "markdown",
      "source": [
        "The f_score of the SVM algorithm is much more higher than the base model but worse than the Random Forest algorithm."
      ],
      "metadata": {
        "id": "ydeTxhSubCja"
      }
    },
    {
      "cell_type": "code",
      "source": [
        "ConfusionMatrixDisplay.from_predictions(y_trainsev, yhat, \n",
        "                                        labels=bestsvm.classes_, \n",
        "                                        xticks_rotation=\"vertical\", \n",
        "                                        normalize=\"true\",\n",
        "                                        cmap=plt.cm.Greens)"
      ],
      "metadata": {
        "colab": {
          "base_uri": "https://localhost:8080/",
          "height": 467
        },
        "id": "GMKCJkuabCsp",
        "outputId": "36c7a553-c5f7-47dc-f9d5-4512ceb41402"
      },
      "execution_count": null,
      "outputs": [
        {
          "output_type": "execute_result",
          "data": {
            "text/plain": [
              "<sklearn.metrics._plot.confusion_matrix.ConfusionMatrixDisplay at 0x7fd2b64e4050>"
            ]
          },
          "metadata": {},
          "execution_count": 36
        },
        {
          "output_type": "display_data",
          "data": {
            "text/plain": [
              "<Figure size 640x480 with 2 Axes>"
            ],
            "image/png": "[encoded data removed]"
          },
          "metadata": {}
        }
      ]
    },
    {
      "cell_type": "markdown",
      "source": [
        "From the heatmap above, we can see the model predicts poorly. It predicts all of the accidents as slight accident, which is not the case. We therefore will be going ahead with the Random Forest model as this is the best produced."
      ],
      "metadata": {
        "id": "jOFeTTXKbP2T"
      }
    },
    {
      "cell_type": "markdown",
      "source": [
        "### **Test the best models**\n",
        "We will evaluate both models "
      ],
      "metadata": {
        "id": "-Cb4981_YRHW"
      }
    },
    {
      "cell_type": "markdown",
      "source": [
        "****Random Forest****"
      ],
      "metadata": {
        "id": "MK4zbL2rY1sY"
      }
    },
    {
      "cell_type": "code",
      "source": [
        "yhat1 = bestrand.predict(x_testsev)\n",
        "accuracy_score(y_testsev, yhat)"
      ],
      "metadata": {
        "colab": {
          "base_uri": "https://localhost:8080/"
        },
        "id": "j89xanVCXzHH",
        "outputId": "21ca52a8-2554-4316-91d1-d1b213d3dc82"
      },
      "execution_count": null,
      "outputs": [
        {
          "output_type": "execute_result",
          "data": {
            "text/plain": [
              "0.8197824667026382"
            ]
          },
          "metadata": {},
          "execution_count": 61
        }
      ]
    },
    {
      "cell_type": "markdown",
      "source": [
        "The accuracy of the model is 81.92%. This is smaller than the trainset but this is expected. Overall the model did not do bad."
      ],
      "metadata": {
        "id": "44hVr6ACZNAA"
      }
    },
    {
      "cell_type": "code",
      "source": [
        "precision_base = precision_score(y_testsev, yhat1, average = 'macro')\n",
        "\n",
        "recall_base = recall_score(y_testsev, yhat1, average = 'macro')\n",
        "\n",
        "\n",
        "f_base = f1_score(y_testsev, yhat1, average = 'macro')\n",
        "print(f'The precision is {precision_base}')\n",
        "print(f'The f_score is {recall_base}')\n",
        "print(f'The f_score is {f_base}')"
      ],
      "metadata": {
        "colab": {
          "base_uri": "https://localhost:8080/"
        },
        "id": "LZg9m5PFZOdf",
        "outputId": "9924d78e-cc6c-4260-e7b7-cb61c95dc16f"
      },
      "execution_count": null,
      "outputs": [
        {
          "output_type": "stream",
          "name": "stdout",
          "text": [
            "The precision is 0.39538746901835853\n",
            "The f_score is 0.3724204758069041\n",
            "The f_score is 0.3773595592893346\n"
          ]
        }
      ]
    },
    {
      "cell_type": "markdown",
      "source": [
        "The f_score of the random forest algorithm on the test set is 0.37. This is way less than the f_score of the model on the training set. The model has overfit on the training. We will still go ahead and use it to analyse the data set for the sake of this report but it should not be used as the model is not good. It might improve by removing the insignificant columns in the model and further column transformation."
      ],
      "metadata": {
        "id": "MxRzcZZWZppZ"
      }
    },
    {
      "cell_type": "code",
      "source": [
        "ConfusionMatrixDisplay.from_predictions(y_testsev, yhat1, \n",
        "                                        labels=bestrand.classes_, \n",
        "                                        xticks_rotation=\"vertical\", \n",
        "                                        normalize=\"true\",\n",
        "                                        cmap=plt.cm.Greens)"
      ],
      "metadata": {
        "colab": {
          "base_uri": "https://localhost:8080/",
          "height": 461
        },
        "id": "wJ5cg-GiZr04",
        "outputId": "6a9aeba4-c61f-44bc-b2e7-06f5370c13e9"
      },
      "execution_count": null,
      "outputs": [
        {
          "output_type": "execute_result",
          "data": {
            "text/plain": [
              "<sklearn.metrics._plot.confusion_matrix.ConfusionMatrixDisplay at 0x7fd2b5882310>"
            ]
          },
          "metadata": {},
          "execution_count": 63
        },
        {
          "output_type": "display_data",
          "data": {
            "text/plain": [
              "<Figure size 640x480 with 2 Axes>"
            ],
            "image/png": "[encoded data removed]"
          },
          "metadata": {}
        }
      ]
    },
    {
      "cell_type": "markdown",
      "source": [
        "The model predicted poorly on the serious and fatal accident class but predicts the slight accident very well."
      ],
      "metadata": {
        "id": "PejKjdBZyD39"
      }
    },
    {
      "cell_type": "markdown",
      "source": [
        "## **Conclusion**"
      ],
      "metadata": {
        "id": "by6cz_kx2oyd"
      }
    },
    {
      "cell_type": "markdown",
      "source": [
        "From the first analysis, we observed that the presence of more women on the road than either male or other resulted to more accidents occuring that day. Days with high accidents, the accidents are most likely to occur on dual carriage roads in the morning and they will occur in rural areas.\n",
        "The second analysis proves age of the drive and age of the vehicle to important parameters in the model. From the correlation analysis, we ssee that the higher the age the less severe the accident and vice versa. The age of car behaved similar to the age of the driver although it has a lower correlation. This could be as a result of people with modern vehicles with a faster acceleration and speed.\n",
        "\n",
        "I will recommend the permitted age of drivers be increased. This will have an effect on the severity of accidents that will occur. I also recommend serious punishment be attached to defaulting speed limits especially in the rural areas. "
      ],
      "metadata": {
        "id": "5qQsnfm62-WI"
      }
    }
  ]
}